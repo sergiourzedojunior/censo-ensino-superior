{
 "cells": [
  {
   "cell_type": "code",
   "execution_count": 1,
   "metadata": {},
   "outputs": [
    {
     "name": "stderr",
     "output_type": "stream",
     "text": [
      "c:\\Users\\surze\\anaconda3\\envs\\prophetenv\\lib\\site-packages\\ipykernel_launcher.py:84: SettingWithCopyWarning: \n",
      "A value is trying to be set on a copy of a slice from a DataFrame.\n",
      "Try using .loc[row_indexer,col_indexer] = value instead\n",
      "\n",
      "See the caveats in the documentation: https://pandas.pydata.org/pandas-docs/stable/user_guide/indexing.html#returning-a-view-versus-a-copy\n",
      "c:\\Users\\surze\\anaconda3\\envs\\prophetenv\\lib\\site-packages\\ipykernel_launcher.py:85: SettingWithCopyWarning: \n",
      "A value is trying to be set on a copy of a slice from a DataFrame.\n",
      "Try using .loc[row_indexer,col_indexer] = value instead\n",
      "\n",
      "See the caveats in the documentation: https://pandas.pydata.org/pandas-docs/stable/user_guide/indexing.html#returning-a-view-versus-a-copy\n"
     ]
    }
   ],
   "source": [
    "import pandas as pd\n",
    "import os\n",
    "\n",
    "# Define the file paths\n",
    "file_paths = [os.path.join(r\"D:\\OneDrive\\censo ensino superior\\microdados_censo_da_educacao_superior_\" + str(year), \n",
    "                           r\"microdadosdocensodaeducacosuperior\" + str(year) if year != 2022 else r\"microdados_educaco_superior_\" + str(year), \n",
    "                           r\"dados\\MICRODADOS_CADASTRO_CURSOS_\" + str(year) + \"_med.parquet\") \n",
    "              for year in range(2009, 2023)]\n",
    "\n",
    "# Initialize an empty list to store the DataFrames\n",
    "dfs = []\n",
    "\n",
    "# Loop through each file path\n",
    "for file_path in file_paths:\n",
    "    # Check if the file exists\n",
    "    if os.path.exists(file_path):\n",
    "        # Read the Parquet file into a DataFrame\n",
    "        df = pd.read_parquet(file_path)\n",
    "        # Append the DataFrame to the list\n",
    "        dfs.append(df)\n",
    "    else:\n",
    "        print(f\"File not found: {file_path}\")\n",
    "\n",
    "# Concatenate all the DataFrames in the list\n",
    "df_concat = pd.concat(dfs, ignore_index=True)\n",
    "\n",
    "# Define the columns to select\n",
    "columns_to_select = [\n",
    "    \"NU_ANO_CENSO\",\n",
    "    \"NO_REGIAO\",\n",
    "    \"CO_REGIAO\",\n",
    "    \"NO_UF\",\n",
    "    \"SG_UF\",\n",
    "    \"CO_UF\",\n",
    "    \"NO_MUNICIPIO\",\n",
    "    \"CO_MUNICIPIO\",\n",
    "    \"IN_CAPITAL\",\n",
    "    \"TP_ORGANIZACAO_ACADEMICA\",\n",
    "    \"TP_CATEGORIA_ADMINISTRATIVA\",\n",
    "    \"TP_REDE\",\n",
    "    \"CO_IES\",\n",
    "    \"NO_CINE_ROTULO\",\n",
    "    \"CO_CINE_ROTULO\",\n",
    "    \"CO_CINE_AREA_GERAL\",\n",
    "    \"NO_CINE_AREA_GERAL\",\n",
    "    \"CO_CINE_AREA_ESPECIFICA\",\n",
    "    \"NO_CINE_AREA_ESPECIFICA\",\n",
    "    \"CO_CINE_AREA_DETALHADA\",\n",
    "    \"NO_CINE_AREA_DETALHADA\",\n",
    "    \"TP_GRAU_ACADEMICO\",\n",
    "    \"TP_MODALIDADE_ENSINO\",\n",
    "    \"TP_NIVEL_ACADEMICO\",\n",
    "    \"QT_CURSO\",\n",
    "    \"QT_VG_TOTAL\",\n",
    "    \"QT_VG_TOTAL_DIURNO\",\n",
    "    \"QT_VG_TOTAL_NOTURNO\",\n",
    "    \"QT_VG_TOTAL_EAD\",\n",
    "    \"QT_VG_NOVA\",\n",
    "    \"QT_VG_PROC_SELETIVO\",\n",
    "    \"QT_VG_REMANESC\",\n",
    "    \"QT_VG_PROG_ESPECIAL\",\n",
    "    \"QT_INSCRITO_TOTAL\",\n",
    "    \"QT_INSCRITO_TOTAL_DIURNO\",\n",
    "    \"QT_INSCRITO_TOTAL_NOTURNO\",\n",
    "    \"QT_INSCRITO_TOTAL_EAD\",\n",
    "    \"QT_INSC_VG_NOVA\",\n",
    "    \"QT_INSC_PROC_SELETIVO\",\n",
    "    \"QT_INSC_VG_REMANESC\",\n",
    "    \"QT_INSC_VG_PROG_ESPECIAL\",\n",
    "    \"QT_ING\",\n",
    "    \"QT_ING_FEM\",\n",
    "    \"QT_ING_MASC\",\n",
    "    \"QT_ING_DIURNO\",\n",
    "    \"QT_ING_NOTURNO\",\n",
    "    \"QT_ING_VG_NOVA\",\n",
    "    \"QT_ING_VESTIBULAR\",\n",
    "    \"QT_ING_ENEM\"\n",
    "]\n",
    "\n",
    "# Select the necessary columns\n",
    "df_selected = df_concat[columns_to_select]\n",
    "\n",
    "# Convert the columns to integer\n",
    "df_selected['QT_VG_TOTAL'] = df_selected['QT_VG_TOTAL'].astype(int)\n",
    "df_selected['QT_INSCRITO_TOTAL'] = df_selected['QT_INSCRITO_TOTAL'].astype(int)\n",
    "\n",
    "# Group the DataFrame and calculate the sum for each group\n",
    "df_grouped = df_selected.groupby(['NU_ANO_CENSO', 'NO_CINE_AREA_DETALHADA'])[['QT_VG_TOTAL', 'QT_INSCRITO_TOTAL']].sum()\n",
    "\n",
    "# # Print the grouped DataFrame\n",
    "# print(df_grouped)"
   ]
  },
  {
   "cell_type": "code",
   "execution_count": 2,
   "metadata": {},
   "outputs": [
    {
     "name": "stderr",
     "output_type": "stream",
     "text": [
      "c:\\Users\\surze\\anaconda3\\envs\\prophetenv\\lib\\site-packages\\tqdm\\auto.py:21: TqdmWarning: IProgress not found. Please update jupyter and ipywidgets. See https://ipywidgets.readthedocs.io/en/stable/user_install.html\n",
      "  from .autonotebook import tqdm as notebook_tqdm\n",
      "19:33:38 - cmdstanpy - INFO - Chain [1] start processing\n",
      "19:33:38 - cmdstanpy - INFO - Chain [1] done processing\n",
      "19:33:38 - cmdstanpy - INFO - Chain [1] start processing\n",
      "19:33:38 - cmdstanpy - INFO - Chain [1] done processing\n"
     ]
    }
   ],
   "source": [
    "import pandas as pd\n",
    "from prophet import Prophet\n",
    "\n",
    "# Resetando o índice do DataFrame agrupado para facilitar o acesso aos dados\n",
    "df_grouped_reset = df_grouped.reset_index()\n",
    "df_grouped_reset.to_csv(r'D:\\OneDrive\\censo ensino superior\\df_grouped_reset.csv')\n",
    "# Preparando os DataFrames para o Prophet\n",
    "df_prophet_vg = pd.DataFrame({\n",
    "    'ds': pd.to_datetime(df_grouped_reset['NU_ANO_CENSO'], format='%Y'),\n",
    "    'y': df_grouped_reset['QT_VG_TOTAL']\n",
    "})\n",
    "\n",
    "df_prophet_insc = pd.DataFrame({\n",
    "    'ds': pd.to_datetime(df_grouped_reset['NU_ANO_CENSO'], format='%Y'),\n",
    "    'y': df_grouped_reset['QT_INSCRITO_TOTAL']\n",
    "})\n",
    "\n",
    "# Inicialização e ajuste dos modelos para VG_TOTAL e INSCRITO_TOTAL\n",
    "m_vg = Prophet()\n",
    "m_insc = Prophet()\n",
    "m_vg.fit(df_prophet_vg)\n",
    "m_insc.fit(df_prophet_insc)\n",
    "\n",
    "# Extendendo o DataFrame para incluir previsões até 2023\n",
    "future_vg = m_vg.make_future_dataframe(periods=2, freq='Y')\n",
    "future_insc = m_insc.make_future_dataframe(periods=2, freq='Y')\n",
    "\n",
    "# Gerando previsões\n",
    "forecast_vg = m_vg.predict(future_vg)\n",
    "forecast_insc = m_insc.predict(future_insc)\n",
    "\n",
    "# Removendo a previsão de 31 de dezembro de 2022\n",
    "forecast_vg = forecast_vg[forecast_vg['ds'] != '2022-12-31']\n",
    "forecast_insc = forecast_insc[forecast_insc['ds'] != '2022-12-31']\n",
    "\n",
    "# Juntando as previsões com os dados reais para cálculo do MAE\n",
    "forecast_vg = forecast_vg.set_index('ds').join(df_prophet_vg.set_index('ds'))\n",
    "forecast_insc = forecast_insc.set_index('ds').join(df_prophet_insc.set_index('ds'))\n",
    "forecast_vg.reset_index(inplace=True)\n",
    "forecast_insc.reset_index(inplace=True)\n",
    "\n",
    "# Cálculo do MAPE para cada conjunto de previsões\n",
    "forecast_vg['percentage_error'] = ((forecast_vg['yhat'] - forecast_vg['y']).abs() / forecast_vg['y']) * 100\n",
    "forecast_insc['percentage_error'] = ((forecast_insc['yhat'] - forecast_insc['y']).abs() / forecast_insc['y']) * 100\n",
    "mape_vg = forecast_vg['percentage_error'].mean()\n",
    "mape_insc = forecast_insc['percentage_error'].mean()\n",
    "\n",
    "# # Mostrando os resultados\n",
    "# print(\"MAPE for QT_VG_TOTAL predictions up to 2022:\", mape_vg)\n",
    "# print(\"MAPE for QT_INSCRITO_TOTAL predictions up to 2022:\", mape_insc)\n",
    "\n",
    "# # Visualização opcional das previsões e erros\n",
    "# print(\"\\nPredictions and Percentage Errors for QT_VG_TOTAL:\")\n",
    "# print(forecast_vg[['ds', 'yhat', 'y', 'percentage_error']])\n",
    "# print(\"\\nPredictions and Percentage Errors for QT_INSCRITO_TOTAL:\")\n",
    "# print(forecast_insc[['ds', 'yhat', 'y', 'percentage_error']])\n"
   ]
  },
  {
   "cell_type": "code",
   "execution_count": 3,
   "metadata": {},
   "outputs": [
    {
     "data": {
      "application/vnd.plotly.v1+json": {
       "config": {
        "plotlyServerURL": "https://plotly.com"
       },
       "data": [
        {
         "customdata": [
          [
           16096,
           34.84020258790792
          ],
          [
           16468,
           14.977616292996561
          ],
          [
           16482,
           3.7890655119180896
          ],
          [
           17641,
           12.260874908352967
          ],
          [
           20243,
           23.763485542189887
          ],
          [
           26262,
           8.78661201464704
          ],
          [
           29383,
           7.809553024888688
          ],
          [
           34289,
           0.2642289017451653
          ],
          [
           36609,
           8.262278336833546
          ],
          [
           45896,
           5.979328343333821
          ],
          [
           47539,
           2.687519881446373
          ],
          [
           51024,
           4.03842913720723
          ],
          [
           54418,
           0.36831939959032906
          ],
          [
           58708,
           1.6564046851924141
          ]
         ],
         "hovertemplate": "<b>%{x}</b><br><br>Predicted: %{y:.2f}<br>Actual: %{customdata[0]:.2f}<br>Error: %{customdata[1]:.2f}%<extra></extra>",
         "line": {
          "color": "blue"
         },
         "mode": "lines+markers",
         "name": "Predicted until 2022",
         "type": "scatter",
         "x": [
          "2009-01-01T00:00:00",
          "2010-01-01T00:00:00",
          "2011-01-01T00:00:00",
          "2012-01-01T00:00:00",
          "2013-01-01T00:00:00",
          "2014-01-01T00:00:00",
          "2015-01-01T00:00:00",
          "2016-01-01T00:00:00",
          "2017-01-01T00:00:00",
          "2018-01-01T00:00:00",
          "2019-01-01T00:00:00",
          "2020-01-01T00:00:00",
          "2021-01-01T00:00:00",
          "2022-01-01T00:00:00"
         ],
         "y": [
          10488.120991450342,
          14001.486148869326,
          17106.51377767434,
          19803.940942582547,
          25053.4423783055,
          28569.540047286606,
          31677.680965303043,
          34379.6014481194,
          39633.73747633139,
          43151.72746354351,
          46261.37992355921,
          48963.43191703138,
          54217.567949130935,
          57735.55793741724
         ]
        },
        {
         "line": {
          "color": "red"
         },
         "mode": "lines+markers",
         "name": "Actual until 2022",
         "type": "scatter",
         "x": [
          "2009-01-01T00:00:00",
          "2010-01-01T00:00:00",
          "2011-01-01T00:00:00",
          "2012-01-01T00:00:00",
          "2013-01-01T00:00:00",
          "2014-01-01T00:00:00",
          "2015-01-01T00:00:00",
          "2016-01-01T00:00:00",
          "2017-01-01T00:00:00",
          "2018-01-01T00:00:00",
          "2019-01-01T00:00:00",
          "2020-01-01T00:00:00",
          "2021-01-01T00:00:00",
          "2022-01-01T00:00:00"
         ],
         "y": [
          16096,
          16468,
          16482,
          17641,
          20243,
          26262,
          29383,
          34289,
          36609,
          45896,
          47539,
          51024,
          54418,
          58708
         ]
        },
        {
         "hovertemplate": "<b>%{x}</b><br><br>Predicted: %{y:.2f}<br><extra></extra>",
         "line": {
          "color": "green",
          "dash": "dash"
         },
         "mode": "lines+markers",
         "name": "Predicted for 2023",
         "type": "scatter",
         "x": [
          "2023-12-31T00:00:00"
         ],
         "y": [
          55735.10870852397
         ]
        }
       ],
       "layout": {
        "template": {
         "data": {
          "bar": [
           {
            "error_x": {
             "color": "#f2f5fa"
            },
            "error_y": {
             "color": "#f2f5fa"
            },
            "marker": {
             "line": {
              "color": "rgb(17,17,17)",
              "width": 0.5
             },
             "pattern": {
              "fillmode": "overlay",
              "size": 10,
              "solidity": 0.2
             }
            },
            "type": "bar"
           }
          ],
          "barpolar": [
           {
            "marker": {
             "line": {
              "color": "rgb(17,17,17)",
              "width": 0.5
             },
             "pattern": {
              "fillmode": "overlay",
              "size": 10,
              "solidity": 0.2
             }
            },
            "type": "barpolar"
           }
          ],
          "carpet": [
           {
            "aaxis": {
             "endlinecolor": "#A2B1C6",
             "gridcolor": "#506784",
             "linecolor": "#506784",
             "minorgridcolor": "#506784",
             "startlinecolor": "#A2B1C6"
            },
            "baxis": {
             "endlinecolor": "#A2B1C6",
             "gridcolor": "#506784",
             "linecolor": "#506784",
             "minorgridcolor": "#506784",
             "startlinecolor": "#A2B1C6"
            },
            "type": "carpet"
           }
          ],
          "choropleth": [
           {
            "colorbar": {
             "outlinewidth": 0,
             "ticks": ""
            },
            "type": "choropleth"
           }
          ],
          "contour": [
           {
            "colorbar": {
             "outlinewidth": 0,
             "ticks": ""
            },
            "colorscale": [
             [
              0,
              "#0d0887"
             ],
             [
              0.1111111111111111,
              "#46039f"
             ],
             [
              0.2222222222222222,
              "#7201a8"
             ],
             [
              0.3333333333333333,
              "#9c179e"
             ],
             [
              0.4444444444444444,
              "#bd3786"
             ],
             [
              0.5555555555555556,
              "#d8576b"
             ],
             [
              0.6666666666666666,
              "#ed7953"
             ],
             [
              0.7777777777777778,
              "#fb9f3a"
             ],
             [
              0.8888888888888888,
              "#fdca26"
             ],
             [
              1,
              "#f0f921"
             ]
            ],
            "type": "contour"
           }
          ],
          "contourcarpet": [
           {
            "colorbar": {
             "outlinewidth": 0,
             "ticks": ""
            },
            "type": "contourcarpet"
           }
          ],
          "heatmap": [
           {
            "colorbar": {
             "outlinewidth": 0,
             "ticks": ""
            },
            "colorscale": [
             [
              0,
              "#0d0887"
             ],
             [
              0.1111111111111111,
              "#46039f"
             ],
             [
              0.2222222222222222,
              "#7201a8"
             ],
             [
              0.3333333333333333,
              "#9c179e"
             ],
             [
              0.4444444444444444,
              "#bd3786"
             ],
             [
              0.5555555555555556,
              "#d8576b"
             ],
             [
              0.6666666666666666,
              "#ed7953"
             ],
             [
              0.7777777777777778,
              "#fb9f3a"
             ],
             [
              0.8888888888888888,
              "#fdca26"
             ],
             [
              1,
              "#f0f921"
             ]
            ],
            "type": "heatmap"
           }
          ],
          "heatmapgl": [
           {
            "colorbar": {
             "outlinewidth": 0,
             "ticks": ""
            },
            "colorscale": [
             [
              0,
              "#0d0887"
             ],
             [
              0.1111111111111111,
              "#46039f"
             ],
             [
              0.2222222222222222,
              "#7201a8"
             ],
             [
              0.3333333333333333,
              "#9c179e"
             ],
             [
              0.4444444444444444,
              "#bd3786"
             ],
             [
              0.5555555555555556,
              "#d8576b"
             ],
             [
              0.6666666666666666,
              "#ed7953"
             ],
             [
              0.7777777777777778,
              "#fb9f3a"
             ],
             [
              0.8888888888888888,
              "#fdca26"
             ],
             [
              1,
              "#f0f921"
             ]
            ],
            "type": "heatmapgl"
           }
          ],
          "histogram": [
           {
            "marker": {
             "pattern": {
              "fillmode": "overlay",
              "size": 10,
              "solidity": 0.2
             }
            },
            "type": "histogram"
           }
          ],
          "histogram2d": [
           {
            "colorbar": {
             "outlinewidth": 0,
             "ticks": ""
            },
            "colorscale": [
             [
              0,
              "#0d0887"
             ],
             [
              0.1111111111111111,
              "#46039f"
             ],
             [
              0.2222222222222222,
              "#7201a8"
             ],
             [
              0.3333333333333333,
              "#9c179e"
             ],
             [
              0.4444444444444444,
              "#bd3786"
             ],
             [
              0.5555555555555556,
              "#d8576b"
             ],
             [
              0.6666666666666666,
              "#ed7953"
             ],
             [
              0.7777777777777778,
              "#fb9f3a"
             ],
             [
              0.8888888888888888,
              "#fdca26"
             ],
             [
              1,
              "#f0f921"
             ]
            ],
            "type": "histogram2d"
           }
          ],
          "histogram2dcontour": [
           {
            "colorbar": {
             "outlinewidth": 0,
             "ticks": ""
            },
            "colorscale": [
             [
              0,
              "#0d0887"
             ],
             [
              0.1111111111111111,
              "#46039f"
             ],
             [
              0.2222222222222222,
              "#7201a8"
             ],
             [
              0.3333333333333333,
              "#9c179e"
             ],
             [
              0.4444444444444444,
              "#bd3786"
             ],
             [
              0.5555555555555556,
              "#d8576b"
             ],
             [
              0.6666666666666666,
              "#ed7953"
             ],
             [
              0.7777777777777778,
              "#fb9f3a"
             ],
             [
              0.8888888888888888,
              "#fdca26"
             ],
             [
              1,
              "#f0f921"
             ]
            ],
            "type": "histogram2dcontour"
           }
          ],
          "mesh3d": [
           {
            "colorbar": {
             "outlinewidth": 0,
             "ticks": ""
            },
            "type": "mesh3d"
           }
          ],
          "parcoords": [
           {
            "line": {
             "colorbar": {
              "outlinewidth": 0,
              "ticks": ""
             }
            },
            "type": "parcoords"
           }
          ],
          "pie": [
           {
            "automargin": true,
            "type": "pie"
           }
          ],
          "scatter": [
           {
            "marker": {
             "line": {
              "color": "#283442"
             }
            },
            "type": "scatter"
           }
          ],
          "scatter3d": [
           {
            "line": {
             "colorbar": {
              "outlinewidth": 0,
              "ticks": ""
             }
            },
            "marker": {
             "colorbar": {
              "outlinewidth": 0,
              "ticks": ""
             }
            },
            "type": "scatter3d"
           }
          ],
          "scattercarpet": [
           {
            "marker": {
             "colorbar": {
              "outlinewidth": 0,
              "ticks": ""
             }
            },
            "type": "scattercarpet"
           }
          ],
          "scattergeo": [
           {
            "marker": {
             "colorbar": {
              "outlinewidth": 0,
              "ticks": ""
             }
            },
            "type": "scattergeo"
           }
          ],
          "scattergl": [
           {
            "marker": {
             "line": {
              "color": "#283442"
             }
            },
            "type": "scattergl"
           }
          ],
          "scattermapbox": [
           {
            "marker": {
             "colorbar": {
              "outlinewidth": 0,
              "ticks": ""
             }
            },
            "type": "scattermapbox"
           }
          ],
          "scatterpolar": [
           {
            "marker": {
             "colorbar": {
              "outlinewidth": 0,
              "ticks": ""
             }
            },
            "type": "scatterpolar"
           }
          ],
          "scatterpolargl": [
           {
            "marker": {
             "colorbar": {
              "outlinewidth": 0,
              "ticks": ""
             }
            },
            "type": "scatterpolargl"
           }
          ],
          "scatterternary": [
           {
            "marker": {
             "colorbar": {
              "outlinewidth": 0,
              "ticks": ""
             }
            },
            "type": "scatterternary"
           }
          ],
          "surface": [
           {
            "colorbar": {
             "outlinewidth": 0,
             "ticks": ""
            },
            "colorscale": [
             [
              0,
              "#0d0887"
             ],
             [
              0.1111111111111111,
              "#46039f"
             ],
             [
              0.2222222222222222,
              "#7201a8"
             ],
             [
              0.3333333333333333,
              "#9c179e"
             ],
             [
              0.4444444444444444,
              "#bd3786"
             ],
             [
              0.5555555555555556,
              "#d8576b"
             ],
             [
              0.6666666666666666,
              "#ed7953"
             ],
             [
              0.7777777777777778,
              "#fb9f3a"
             ],
             [
              0.8888888888888888,
              "#fdca26"
             ],
             [
              1,
              "#f0f921"
             ]
            ],
            "type": "surface"
           }
          ],
          "table": [
           {
            "cells": {
             "fill": {
              "color": "#506784"
             },
             "line": {
              "color": "rgb(17,17,17)"
             }
            },
            "header": {
             "fill": {
              "color": "#2a3f5f"
             },
             "line": {
              "color": "rgb(17,17,17)"
             }
            },
            "type": "table"
           }
          ]
         },
         "layout": {
          "annotationdefaults": {
           "arrowcolor": "#f2f5fa",
           "arrowhead": 0,
           "arrowwidth": 1
          },
          "autotypenumbers": "strict",
          "coloraxis": {
           "colorbar": {
            "outlinewidth": 0,
            "ticks": ""
           }
          },
          "colorscale": {
           "diverging": [
            [
             0,
             "#8e0152"
            ],
            [
             0.1,
             "#c51b7d"
            ],
            [
             0.2,
             "#de77ae"
            ],
            [
             0.3,
             "#f1b6da"
            ],
            [
             0.4,
             "#fde0ef"
            ],
            [
             0.5,
             "#f7f7f7"
            ],
            [
             0.6,
             "#e6f5d0"
            ],
            [
             0.7,
             "#b8e186"
            ],
            [
             0.8,
             "#7fbc41"
            ],
            [
             0.9,
             "#4d9221"
            ],
            [
             1,
             "#276419"
            ]
           ],
           "sequential": [
            [
             0,
             "#0d0887"
            ],
            [
             0.1111111111111111,
             "#46039f"
            ],
            [
             0.2222222222222222,
             "#7201a8"
            ],
            [
             0.3333333333333333,
             "#9c179e"
            ],
            [
             0.4444444444444444,
             "#bd3786"
            ],
            [
             0.5555555555555556,
             "#d8576b"
            ],
            [
             0.6666666666666666,
             "#ed7953"
            ],
            [
             0.7777777777777778,
             "#fb9f3a"
            ],
            [
             0.8888888888888888,
             "#fdca26"
            ],
            [
             1,
             "#f0f921"
            ]
           ],
           "sequentialminus": [
            [
             0,
             "#0d0887"
            ],
            [
             0.1111111111111111,
             "#46039f"
            ],
            [
             0.2222222222222222,
             "#7201a8"
            ],
            [
             0.3333333333333333,
             "#9c179e"
            ],
            [
             0.4444444444444444,
             "#bd3786"
            ],
            [
             0.5555555555555556,
             "#d8576b"
            ],
            [
             0.6666666666666666,
             "#ed7953"
            ],
            [
             0.7777777777777778,
             "#fb9f3a"
            ],
            [
             0.8888888888888888,
             "#fdca26"
            ],
            [
             1,
             "#f0f921"
            ]
           ]
          },
          "colorway": [
           "#636efa",
           "#EF553B",
           "#00cc96",
           "#ab63fa",
           "#FFA15A",
           "#19d3f3",
           "#FF6692",
           "#B6E880",
           "#FF97FF",
           "#FECB52"
          ],
          "font": {
           "color": "#f2f5fa"
          },
          "geo": {
           "bgcolor": "rgb(17,17,17)",
           "lakecolor": "rgb(17,17,17)",
           "landcolor": "rgb(17,17,17)",
           "showlakes": true,
           "showland": true,
           "subunitcolor": "#506784"
          },
          "hoverlabel": {
           "align": "left"
          },
          "hovermode": "closest",
          "mapbox": {
           "style": "dark"
          },
          "paper_bgcolor": "rgb(17,17,17)",
          "plot_bgcolor": "rgb(17,17,17)",
          "polar": {
           "angularaxis": {
            "gridcolor": "#506784",
            "linecolor": "#506784",
            "ticks": ""
           },
           "bgcolor": "rgb(17,17,17)",
           "radialaxis": {
            "gridcolor": "#506784",
            "linecolor": "#506784",
            "ticks": ""
           }
          },
          "scene": {
           "xaxis": {
            "backgroundcolor": "rgb(17,17,17)",
            "gridcolor": "#506784",
            "gridwidth": 2,
            "linecolor": "#506784",
            "showbackground": true,
            "ticks": "",
            "zerolinecolor": "#C8D4E3"
           },
           "yaxis": {
            "backgroundcolor": "rgb(17,17,17)",
            "gridcolor": "#506784",
            "gridwidth": 2,
            "linecolor": "#506784",
            "showbackground": true,
            "ticks": "",
            "zerolinecolor": "#C8D4E3"
           },
           "zaxis": {
            "backgroundcolor": "rgb(17,17,17)",
            "gridcolor": "#506784",
            "gridwidth": 2,
            "linecolor": "#506784",
            "showbackground": true,
            "ticks": "",
            "zerolinecolor": "#C8D4E3"
           }
          },
          "shapedefaults": {
           "line": {
            "color": "#f2f5fa"
           }
          },
          "sliderdefaults": {
           "bgcolor": "#C8D4E3",
           "bordercolor": "rgb(17,17,17)",
           "borderwidth": 1,
           "tickwidth": 0
          },
          "ternary": {
           "aaxis": {
            "gridcolor": "#506784",
            "linecolor": "#506784",
            "ticks": ""
           },
           "baxis": {
            "gridcolor": "#506784",
            "linecolor": "#506784",
            "ticks": ""
           },
           "bgcolor": "rgb(17,17,17)",
           "caxis": {
            "gridcolor": "#506784",
            "linecolor": "#506784",
            "ticks": ""
           }
          },
          "title": {
           "x": 0.05
          },
          "updatemenudefaults": {
           "bgcolor": "#506784",
           "borderwidth": 0
          },
          "xaxis": {
           "automargin": true,
           "gridcolor": "#283442",
           "linecolor": "#506784",
           "ticks": "",
           "title": {
            "standoff": 15
           },
           "zerolinecolor": "#283442",
           "zerolinewidth": 2
          },
          "yaxis": {
           "automargin": true,
           "gridcolor": "#283442",
           "linecolor": "#506784",
           "ticks": "",
           "title": {
            "standoff": 15
           },
           "zerolinecolor": "#283442",
           "zerolinewidth": 2
          }
         }
        },
        "title": {
         "text": "Comparison of Predicted and Actual Values with 2023 Projections"
        },
        "xaxis": {
         "title": {
          "text": "Year"
         }
        },
        "yaxis": {
         "title": {
          "text": "Values"
         }
        }
       }
      }
     },
     "metadata": {},
     "output_type": "display_data"
    }
   ],
   "source": [
    "import plotly.graph_objects as go\n",
    "import pandas as pd\n",
    "import numpy as np\n",
    "\n",
    "# Suponha que 'forecast_vg' seja o seu DataFrame já com as previsões do Prophet\n",
    "\n",
    "# Separar dados até 2022 e dados de 2023\n",
    "df_until_2022 = forecast_vg[forecast_vg['ds'] <= '2022-12-31']\n",
    "df_2023 = forecast_vg[forecast_vg['ds'] > '2022-12-31']\n",
    "\n",
    "# Gráfico comparativo de yhat (previsões) e y (valores reais)\n",
    "fig_comparison = go.Figure()\n",
    "\n",
    "# Dados até 2022\n",
    "fig_comparison.add_trace(go.Scatter(\n",
    "    x=df_until_2022['ds'], \n",
    "    y=df_until_2022['yhat'], \n",
    "    mode='lines+markers', \n",
    "    name='Predicted until 2022', \n",
    "    line=dict(color='blue'),\n",
    "    customdata=np.stack((df_until_2022['y'], df_until_2022['percentage_error']), axis=-1),\n",
    "    hovertemplate=\"<b>%{x}</b><br><br>Predicted: %{y:.2f}<br>Actual: %{customdata[0]:.2f}<br>Error: %{customdata[1]:.2f}%<extra></extra>\"\n",
    "))\n",
    "\n",
    "# Dados reais até 2022\n",
    "fig_comparison.add_trace(go.Scatter(\n",
    "    x=df_until_2022['ds'], \n",
    "    y=df_until_2022['y'], \n",
    "    mode='lines+markers', \n",
    "    name='Actual until 2022', \n",
    "    line=dict(color='red')\n",
    "))\n",
    "\n",
    "# Previsões para 2023\n",
    "fig_comparison.add_trace(go.Scatter(\n",
    "    x=df_2023['ds'], \n",
    "    y=df_2023['yhat'], \n",
    "    mode='lines+markers', \n",
    "    name='Predicted for 2023', \n",
    "    line=dict(color='green', dash='dash'),\n",
    "    hovertemplate=\"<b>%{x}</b><br><br>Predicted: %{y:.2f}<br><extra></extra>\"\n",
    "))\n",
    "\n",
    "# Adicionando título e labels\n",
    "fig_comparison.update_layout(\n",
    "    title='Comparison of Predicted and Actual Values with 2023 Projections',\n",
    "    xaxis_title='Year',\n",
    "    yaxis_title='Values',\n",
    "    template='plotly_dark'\n",
    ")\n",
    "\n",
    "# Mostrar o gráfico\n",
    "fig_comparison.show()\n"
   ]
  },
  {
   "cell_type": "code",
   "execution_count": 4,
   "metadata": {},
   "outputs": [
    {
     "data": {
      "application/vnd.plotly.v1+json": {
       "config": {
        "plotlyServerURL": "https://plotly.com"
       },
       "data": [
        {
         "customdata": [
          [
           386231,
           59.9948541193547
          ],
          [
           542007,
           28.882490238831394
          ],
          [
           691342,
           12.515564723529845
          ],
          [
           849619,
           0.7330422844461618
          ],
          [
           978974,
           20.588370084890858
          ],
          [
           1080304,
           20.575928468193432
          ],
          [
           1145264,
           18.155422961851457
          ],
          [
           1084139,
           6.3481851429965115
          ],
          [
           1071751,
           12.583442190533479
          ],
          [
           1052593,
           3.3349182889249778
          ],
          [
           1075264,
           2.0033015593299264
          ],
          [
           1067303,
           10.070350486240281
          ],
          [
           1000771,
           9.551149744852664
          ],
          [
           1011948,
           16.306192674854138
          ]
         ],
         "hovertemplate": "<b>%{x}</b><br><br>Predicted: %{y:.2f}<br>Actual: %{customdata[0]:.2f}<br>Error: %{customdata[1]:.2f}%<extra></extra>",
         "line": {
          "color": "blue"
         },
         "mode": "lines+markers",
         "name": "Predicted until 2022",
         "type": "scatter",
         "x": [
          "2009-01-01T00:00:00",
          "2010-01-01T00:00:00",
          "2011-01-01T00:00:00",
          "2012-01-01T00:00:00",
          "2013-01-01T00:00:00",
          "2014-01-01T00:00:00",
          "2015-01-01T00:00:00",
          "2016-01-01T00:00:00",
          "2017-01-01T00:00:00",
          "2018-01-01T00:00:00",
          "2019-01-01T00:00:00",
          "2020-01-01T00:00:00",
          "2021-01-01T00:00:00",
          "2022-01-01T00:00:00"
         ],
         "y": [
          617949.7250137249,
          698552.1188687829,
          777867.3554709457,
          855847.0665266886,
          777419.2098451406,
          858021.4217209676,
          937336.4767701816,
          1015315.849072569,
          936887.8324885356,
          1017489.8835350559,
          1096804.7804789133,
          1174784.152850157,
          1096356.1368130594,
          1176958.190649333
         ]
        },
        {
         "line": {
          "color": "red"
         },
         "mode": "lines+markers",
         "name": "Actual until 2022",
         "type": "scatter",
         "x": [
          "2009-01-01T00:00:00",
          "2010-01-01T00:00:00",
          "2011-01-01T00:00:00",
          "2012-01-01T00:00:00",
          "2013-01-01T00:00:00",
          "2014-01-01T00:00:00",
          "2015-01-01T00:00:00",
          "2016-01-01T00:00:00",
          "2017-01-01T00:00:00",
          "2018-01-01T00:00:00",
          "2019-01-01T00:00:00",
          "2020-01-01T00:00:00",
          "2021-01-01T00:00:00",
          "2022-01-01T00:00:00"
         ],
         "y": [
          386231,
          542007,
          691342,
          849619,
          978974,
          1080304,
          1145264,
          1084139,
          1071751,
          1052593,
          1075264,
          1067303,
          1000771,
          1011948
         ]
        },
        {
         "hovertemplate": "<b>%{x}</b><br><br>Predicted: %{y:.2f}<br><extra></extra>",
         "line": {
          "color": "green",
          "dash": "dash"
         },
         "mode": "lines+markers",
         "name": "Predicted for 2023",
         "type": "scatter",
         "x": [
          "2023-12-31T00:00:00"
         ],
         "y": [
          1472452.9904746804
         ]
        }
       ],
       "layout": {
        "template": {
         "data": {
          "bar": [
           {
            "error_x": {
             "color": "#f2f5fa"
            },
            "error_y": {
             "color": "#f2f5fa"
            },
            "marker": {
             "line": {
              "color": "rgb(17,17,17)",
              "width": 0.5
             },
             "pattern": {
              "fillmode": "overlay",
              "size": 10,
              "solidity": 0.2
             }
            },
            "type": "bar"
           }
          ],
          "barpolar": [
           {
            "marker": {
             "line": {
              "color": "rgb(17,17,17)",
              "width": 0.5
             },
             "pattern": {
              "fillmode": "overlay",
              "size": 10,
              "solidity": 0.2
             }
            },
            "type": "barpolar"
           }
          ],
          "carpet": [
           {
            "aaxis": {
             "endlinecolor": "#A2B1C6",
             "gridcolor": "#506784",
             "linecolor": "#506784",
             "minorgridcolor": "#506784",
             "startlinecolor": "#A2B1C6"
            },
            "baxis": {
             "endlinecolor": "#A2B1C6",
             "gridcolor": "#506784",
             "linecolor": "#506784",
             "minorgridcolor": "#506784",
             "startlinecolor": "#A2B1C6"
            },
            "type": "carpet"
           }
          ],
          "choropleth": [
           {
            "colorbar": {
             "outlinewidth": 0,
             "ticks": ""
            },
            "type": "choropleth"
           }
          ],
          "contour": [
           {
            "colorbar": {
             "outlinewidth": 0,
             "ticks": ""
            },
            "colorscale": [
             [
              0,
              "#0d0887"
             ],
             [
              0.1111111111111111,
              "#46039f"
             ],
             [
              0.2222222222222222,
              "#7201a8"
             ],
             [
              0.3333333333333333,
              "#9c179e"
             ],
             [
              0.4444444444444444,
              "#bd3786"
             ],
             [
              0.5555555555555556,
              "#d8576b"
             ],
             [
              0.6666666666666666,
              "#ed7953"
             ],
             [
              0.7777777777777778,
              "#fb9f3a"
             ],
             [
              0.8888888888888888,
              "#fdca26"
             ],
             [
              1,
              "#f0f921"
             ]
            ],
            "type": "contour"
           }
          ],
          "contourcarpet": [
           {
            "colorbar": {
             "outlinewidth": 0,
             "ticks": ""
            },
            "type": "contourcarpet"
           }
          ],
          "heatmap": [
           {
            "colorbar": {
             "outlinewidth": 0,
             "ticks": ""
            },
            "colorscale": [
             [
              0,
              "#0d0887"
             ],
             [
              0.1111111111111111,
              "#46039f"
             ],
             [
              0.2222222222222222,
              "#7201a8"
             ],
             [
              0.3333333333333333,
              "#9c179e"
             ],
             [
              0.4444444444444444,
              "#bd3786"
             ],
             [
              0.5555555555555556,
              "#d8576b"
             ],
             [
              0.6666666666666666,
              "#ed7953"
             ],
             [
              0.7777777777777778,
              "#fb9f3a"
             ],
             [
              0.8888888888888888,
              "#fdca26"
             ],
             [
              1,
              "#f0f921"
             ]
            ],
            "type": "heatmap"
           }
          ],
          "heatmapgl": [
           {
            "colorbar": {
             "outlinewidth": 0,
             "ticks": ""
            },
            "colorscale": [
             [
              0,
              "#0d0887"
             ],
             [
              0.1111111111111111,
              "#46039f"
             ],
             [
              0.2222222222222222,
              "#7201a8"
             ],
             [
              0.3333333333333333,
              "#9c179e"
             ],
             [
              0.4444444444444444,
              "#bd3786"
             ],
             [
              0.5555555555555556,
              "#d8576b"
             ],
             [
              0.6666666666666666,
              "#ed7953"
             ],
             [
              0.7777777777777778,
              "#fb9f3a"
             ],
             [
              0.8888888888888888,
              "#fdca26"
             ],
             [
              1,
              "#f0f921"
             ]
            ],
            "type": "heatmapgl"
           }
          ],
          "histogram": [
           {
            "marker": {
             "pattern": {
              "fillmode": "overlay",
              "size": 10,
              "solidity": 0.2
             }
            },
            "type": "histogram"
           }
          ],
          "histogram2d": [
           {
            "colorbar": {
             "outlinewidth": 0,
             "ticks": ""
            },
            "colorscale": [
             [
              0,
              "#0d0887"
             ],
             [
              0.1111111111111111,
              "#46039f"
             ],
             [
              0.2222222222222222,
              "#7201a8"
             ],
             [
              0.3333333333333333,
              "#9c179e"
             ],
             [
              0.4444444444444444,
              "#bd3786"
             ],
             [
              0.5555555555555556,
              "#d8576b"
             ],
             [
              0.6666666666666666,
              "#ed7953"
             ],
             [
              0.7777777777777778,
              "#fb9f3a"
             ],
             [
              0.8888888888888888,
              "#fdca26"
             ],
             [
              1,
              "#f0f921"
             ]
            ],
            "type": "histogram2d"
           }
          ],
          "histogram2dcontour": [
           {
            "colorbar": {
             "outlinewidth": 0,
             "ticks": ""
            },
            "colorscale": [
             [
              0,
              "#0d0887"
             ],
             [
              0.1111111111111111,
              "#46039f"
             ],
             [
              0.2222222222222222,
              "#7201a8"
             ],
             [
              0.3333333333333333,
              "#9c179e"
             ],
             [
              0.4444444444444444,
              "#bd3786"
             ],
             [
              0.5555555555555556,
              "#d8576b"
             ],
             [
              0.6666666666666666,
              "#ed7953"
             ],
             [
              0.7777777777777778,
              "#fb9f3a"
             ],
             [
              0.8888888888888888,
              "#fdca26"
             ],
             [
              1,
              "#f0f921"
             ]
            ],
            "type": "histogram2dcontour"
           }
          ],
          "mesh3d": [
           {
            "colorbar": {
             "outlinewidth": 0,
             "ticks": ""
            },
            "type": "mesh3d"
           }
          ],
          "parcoords": [
           {
            "line": {
             "colorbar": {
              "outlinewidth": 0,
              "ticks": ""
             }
            },
            "type": "parcoords"
           }
          ],
          "pie": [
           {
            "automargin": true,
            "type": "pie"
           }
          ],
          "scatter": [
           {
            "marker": {
             "line": {
              "color": "#283442"
             }
            },
            "type": "scatter"
           }
          ],
          "scatter3d": [
           {
            "line": {
             "colorbar": {
              "outlinewidth": 0,
              "ticks": ""
             }
            },
            "marker": {
             "colorbar": {
              "outlinewidth": 0,
              "ticks": ""
             }
            },
            "type": "scatter3d"
           }
          ],
          "scattercarpet": [
           {
            "marker": {
             "colorbar": {
              "outlinewidth": 0,
              "ticks": ""
             }
            },
            "type": "scattercarpet"
           }
          ],
          "scattergeo": [
           {
            "marker": {
             "colorbar": {
              "outlinewidth": 0,
              "ticks": ""
             }
            },
            "type": "scattergeo"
           }
          ],
          "scattergl": [
           {
            "marker": {
             "line": {
              "color": "#283442"
             }
            },
            "type": "scattergl"
           }
          ],
          "scattermapbox": [
           {
            "marker": {
             "colorbar": {
              "outlinewidth": 0,
              "ticks": ""
             }
            },
            "type": "scattermapbox"
           }
          ],
          "scatterpolar": [
           {
            "marker": {
             "colorbar": {
              "outlinewidth": 0,
              "ticks": ""
             }
            },
            "type": "scatterpolar"
           }
          ],
          "scatterpolargl": [
           {
            "marker": {
             "colorbar": {
              "outlinewidth": 0,
              "ticks": ""
             }
            },
            "type": "scatterpolargl"
           }
          ],
          "scatterternary": [
           {
            "marker": {
             "colorbar": {
              "outlinewidth": 0,
              "ticks": ""
             }
            },
            "type": "scatterternary"
           }
          ],
          "surface": [
           {
            "colorbar": {
             "outlinewidth": 0,
             "ticks": ""
            },
            "colorscale": [
             [
              0,
              "#0d0887"
             ],
             [
              0.1111111111111111,
              "#46039f"
             ],
             [
              0.2222222222222222,
              "#7201a8"
             ],
             [
              0.3333333333333333,
              "#9c179e"
             ],
             [
              0.4444444444444444,
              "#bd3786"
             ],
             [
              0.5555555555555556,
              "#d8576b"
             ],
             [
              0.6666666666666666,
              "#ed7953"
             ],
             [
              0.7777777777777778,
              "#fb9f3a"
             ],
             [
              0.8888888888888888,
              "#fdca26"
             ],
             [
              1,
              "#f0f921"
             ]
            ],
            "type": "surface"
           }
          ],
          "table": [
           {
            "cells": {
             "fill": {
              "color": "#506784"
             },
             "line": {
              "color": "rgb(17,17,17)"
             }
            },
            "header": {
             "fill": {
              "color": "#2a3f5f"
             },
             "line": {
              "color": "rgb(17,17,17)"
             }
            },
            "type": "table"
           }
          ]
         },
         "layout": {
          "annotationdefaults": {
           "arrowcolor": "#f2f5fa",
           "arrowhead": 0,
           "arrowwidth": 1
          },
          "autotypenumbers": "strict",
          "coloraxis": {
           "colorbar": {
            "outlinewidth": 0,
            "ticks": ""
           }
          },
          "colorscale": {
           "diverging": [
            [
             0,
             "#8e0152"
            ],
            [
             0.1,
             "#c51b7d"
            ],
            [
             0.2,
             "#de77ae"
            ],
            [
             0.3,
             "#f1b6da"
            ],
            [
             0.4,
             "#fde0ef"
            ],
            [
             0.5,
             "#f7f7f7"
            ],
            [
             0.6,
             "#e6f5d0"
            ],
            [
             0.7,
             "#b8e186"
            ],
            [
             0.8,
             "#7fbc41"
            ],
            [
             0.9,
             "#4d9221"
            ],
            [
             1,
             "#276419"
            ]
           ],
           "sequential": [
            [
             0,
             "#0d0887"
            ],
            [
             0.1111111111111111,
             "#46039f"
            ],
            [
             0.2222222222222222,
             "#7201a8"
            ],
            [
             0.3333333333333333,
             "#9c179e"
            ],
            [
             0.4444444444444444,
             "#bd3786"
            ],
            [
             0.5555555555555556,
             "#d8576b"
            ],
            [
             0.6666666666666666,
             "#ed7953"
            ],
            [
             0.7777777777777778,
             "#fb9f3a"
            ],
            [
             0.8888888888888888,
             "#fdca26"
            ],
            [
             1,
             "#f0f921"
            ]
           ],
           "sequentialminus": [
            [
             0,
             "#0d0887"
            ],
            [
             0.1111111111111111,
             "#46039f"
            ],
            [
             0.2222222222222222,
             "#7201a8"
            ],
            [
             0.3333333333333333,
             "#9c179e"
            ],
            [
             0.4444444444444444,
             "#bd3786"
            ],
            [
             0.5555555555555556,
             "#d8576b"
            ],
            [
             0.6666666666666666,
             "#ed7953"
            ],
            [
             0.7777777777777778,
             "#fb9f3a"
            ],
            [
             0.8888888888888888,
             "#fdca26"
            ],
            [
             1,
             "#f0f921"
            ]
           ]
          },
          "colorway": [
           "#636efa",
           "#EF553B",
           "#00cc96",
           "#ab63fa",
           "#FFA15A",
           "#19d3f3",
           "#FF6692",
           "#B6E880",
           "#FF97FF",
           "#FECB52"
          ],
          "font": {
           "color": "#f2f5fa"
          },
          "geo": {
           "bgcolor": "rgb(17,17,17)",
           "lakecolor": "rgb(17,17,17)",
           "landcolor": "rgb(17,17,17)",
           "showlakes": true,
           "showland": true,
           "subunitcolor": "#506784"
          },
          "hoverlabel": {
           "align": "left"
          },
          "hovermode": "closest",
          "mapbox": {
           "style": "dark"
          },
          "paper_bgcolor": "rgb(17,17,17)",
          "plot_bgcolor": "rgb(17,17,17)",
          "polar": {
           "angularaxis": {
            "gridcolor": "#506784",
            "linecolor": "#506784",
            "ticks": ""
           },
           "bgcolor": "rgb(17,17,17)",
           "radialaxis": {
            "gridcolor": "#506784",
            "linecolor": "#506784",
            "ticks": ""
           }
          },
          "scene": {
           "xaxis": {
            "backgroundcolor": "rgb(17,17,17)",
            "gridcolor": "#506784",
            "gridwidth": 2,
            "linecolor": "#506784",
            "showbackground": true,
            "ticks": "",
            "zerolinecolor": "#C8D4E3"
           },
           "yaxis": {
            "backgroundcolor": "rgb(17,17,17)",
            "gridcolor": "#506784",
            "gridwidth": 2,
            "linecolor": "#506784",
            "showbackground": true,
            "ticks": "",
            "zerolinecolor": "#C8D4E3"
           },
           "zaxis": {
            "backgroundcolor": "rgb(17,17,17)",
            "gridcolor": "#506784",
            "gridwidth": 2,
            "linecolor": "#506784",
            "showbackground": true,
            "ticks": "",
            "zerolinecolor": "#C8D4E3"
           }
          },
          "shapedefaults": {
           "line": {
            "color": "#f2f5fa"
           }
          },
          "sliderdefaults": {
           "bgcolor": "#C8D4E3",
           "bordercolor": "rgb(17,17,17)",
           "borderwidth": 1,
           "tickwidth": 0
          },
          "ternary": {
           "aaxis": {
            "gridcolor": "#506784",
            "linecolor": "#506784",
            "ticks": ""
           },
           "baxis": {
            "gridcolor": "#506784",
            "linecolor": "#506784",
            "ticks": ""
           },
           "bgcolor": "rgb(17,17,17)",
           "caxis": {
            "gridcolor": "#506784",
            "linecolor": "#506784",
            "ticks": ""
           }
          },
          "title": {
           "x": 0.05
          },
          "updatemenudefaults": {
           "bgcolor": "#506784",
           "borderwidth": 0
          },
          "xaxis": {
           "automargin": true,
           "gridcolor": "#283442",
           "linecolor": "#506784",
           "ticks": "",
           "title": {
            "standoff": 15
           },
           "zerolinecolor": "#283442",
           "zerolinewidth": 2
          },
          "yaxis": {
           "automargin": true,
           "gridcolor": "#283442",
           "linecolor": "#506784",
           "ticks": "",
           "title": {
            "standoff": 15
           },
           "zerolinecolor": "#283442",
           "zerolinewidth": 2
          }
         }
        },
        "title": {
         "text": "Comparison of Predicted and Actual Values with 2023 Projections"
        },
        "xaxis": {
         "title": {
          "text": "Year"
         }
        },
        "yaxis": {
         "title": {
          "text": "Values"
         }
        }
       }
      }
     },
     "metadata": {},
     "output_type": "display_data"
    }
   ],
   "source": [
    "import plotly.graph_objects as go\n",
    "import pandas as pd\n",
    "import numpy as np\n",
    "\n",
    "# Suponha que 'forecast_insc' seja o seu DataFrame já com as previsões do Prophet\n",
    "\n",
    "# Separar dados até 2022 e dados de 2023\n",
    "df_until_2022 = forecast_insc[forecast_insc['ds'] <= '2022-12-31']\n",
    "df_2023 = forecast_insc[forecast_insc['ds'] > '2022-12-31']\n",
    "\n",
    "# Gráfico comparativo de yhat (previsões) e y (valores reais)\n",
    "fig_comparison = go.Figure()\n",
    "\n",
    "# Dados até 2022\n",
    "fig_comparison.add_trace(go.Scatter(\n",
    "    x=df_until_2022['ds'], \n",
    "    y=df_until_2022['yhat'], \n",
    "    mode='lines+markers', \n",
    "    name='Predicted until 2022', \n",
    "    line=dict(color='blue'),\n",
    "    customdata=np.stack((df_until_2022['y'], df_until_2022['percentage_error']), axis=-1),\n",
    "    hovertemplate=\"<b>%{x}</b><br><br>Predicted: %{y:.2f}<br>Actual: %{customdata[0]:.2f}<br>Error: %{customdata[1]:.2f}%<extra></extra>\"\n",
    "))\n",
    "\n",
    "# Dados reais até 2022\n",
    "fig_comparison.add_trace(go.Scatter(\n",
    "    x=df_until_2022['ds'], \n",
    "    y=df_until_2022['y'], \n",
    "    mode='lines+markers', \n",
    "    name='Actual until 2022', \n",
    "    line=dict(color='red')\n",
    "))\n",
    "\n",
    "# Previsões para 2023\n",
    "fig_comparison.add_trace(go.Scatter(\n",
    "    x=df_2023['ds'], \n",
    "    y=df_2023['yhat'], \n",
    "    mode='lines+markers', \n",
    "    name='Predicted for 2023', \n",
    "    line=dict(color='green', dash='dash'),\n",
    "    hovertemplate=\"<b>%{x}</b><br><br>Predicted: %{y:.2f}<br><extra></extra>\"\n",
    "))\n",
    "\n",
    "# Adicionando título e labels\n",
    "fig_comparison.update_layout(\n",
    "    title='Comparison of Predicted and Actual Values with 2023 Projections',\n",
    "    xaxis_title='Year',\n",
    "    yaxis_title='Values',\n",
    "    template='plotly_dark'\n",
    ")\n",
    "\n",
    "# Mostrar o gráfico\n",
    "fig_comparison.show()\n"
   ]
  },
  {
   "cell_type": "code",
   "execution_count": 5,
   "metadata": {},
   "outputs": [
    {
     "name": "stderr",
     "output_type": "stream",
     "text": [
      "c:\\Users\\surze\\anaconda3\\envs\\prophetenv\\lib\\site-packages\\ipykernel_launcher.py:6: SettingWithCopyWarning:\n",
      "\n",
      "\n",
      "A value is trying to be set on a copy of a slice from a DataFrame.\n",
      "Try using .loc[row_indexer,col_indexer] = value instead\n",
      "\n",
      "See the caveats in the documentation: https://pandas.pydata.org/pandas-docs/stable/user_guide/indexing.html#returning-a-view-versus-a-copy\n",
      "\n",
      "c:\\Users\\surze\\anaconda3\\envs\\prophetenv\\lib\\site-packages\\ipykernel_launcher.py:9: SettingWithCopyWarning:\n",
      "\n",
      "\n",
      "A value is trying to be set on a copy of a slice from a DataFrame.\n",
      "Try using .loc[row_indexer,col_indexer] = value instead\n",
      "\n",
      "See the caveats in the documentation: https://pandas.pydata.org/pandas-docs/stable/user_guide/indexing.html#returning-a-view-versus-a-copy\n",
      "\n"
     ]
    }
   ],
   "source": [
    "import pandas as pd\n",
    "\n",
    "# Supondo que você tenha os dados para o ano de 2023 em df_selected e forecast_vg\n",
    "\n",
    "# Convertendo 'QT_VG_TOTAL' para numérico para evitar erros de tipo\n",
    "df_selected['QT_VG_TOTAL'] = pd.to_numeric(df_selected['QT_VG_TOTAL'], errors='coerce')\n",
    "\n",
    "# Criando um identificador único para cada combinação de ano e UF\n",
    "df_selected['Year_UF'] = df_selected['NU_ANO_CENSO'].astype(str) + '_' + df_selected['SG_UF']\n",
    "\n",
    "# Agrupar df_selected por Year_UF para sumarizar 'QT_VG_TOTAL'\n",
    "uf_annual_summary = df_selected.groupby(['Year_UF', 'NU_ANO_CENSO', 'SG_UF'])['QT_VG_TOTAL'].sum().reset_index()\n",
    "\n",
    "# Calcular o total nacional para cada ano\n",
    "total_annual = df_selected.groupby('NU_ANO_CENSO')['QT_VG_TOTAL'].sum().reset_index()\n",
    "total_annual.rename(columns={'QT_VG_TOTAL': 'Total'}, inplace=True)\n",
    "\n",
    "# Juntar os totais ao resumo por Year_UF e calcular a proporção\n",
    "uf_annual_summary = uf_annual_summary.merge(total_annual, on='NU_ANO_CENSO')\n",
    "uf_annual_summary['Proportion'] = uf_annual_summary['QT_VG_TOTAL'] / uf_annual_summary['Total']\n",
    "\n",
    "# Converter 'ds' para o formato de ano no DataFrame forecast_vg e assegurar que é inteiro\n",
    "forecast_vg['Year'] = pd.to_datetime(forecast_vg['ds']).dt.year\n",
    "\n",
    "# Assegurando que 'Year' em forecast_vg e 'NU_ANO_CENSO' em uf_annual_summary são inteiros para compatibilidade\n",
    "forecast_vg['Year'] = forecast_vg['Year'].astype(int)\n",
    "uf_annual_summary['NU_ANO_CENSO'] = uf_annual_summary['NU_ANO_CENSO'].astype(int)\n",
    "\n",
    "# Mesclar proporções com as previsões de yhat\n",
    "forecast_distributed = uf_annual_summary.merge(forecast_vg[['Year', 'yhat']], left_on='NU_ANO_CENSO', right_on='Year', how='left')\n",
    "forecast_distributed['yhat_adjusted'] = forecast_distributed['Proportion'] * forecast_distributed['yhat']\n",
    "\n",
    "# Calcular o erro percentual entre o valor real e a previsão ajustada\n",
    "forecast_distributed['error_percentage'] = ((forecast_distributed['yhat_adjusted'] - forecast_distributed['QT_VG_TOTAL']).abs() / forecast_distributed['QT_VG_TOTAL']) * 100\n",
    "\n",
    "# Criar o DataFrame final com as previsões ajustadas por UF\n",
    "final_forecast = forecast_distributed[['NU_ANO_CENSO', 'SG_UF', 'yhat_adjusted', 'QT_VG_TOTAL', 'error_percentage']]\n",
    "\n",
    "# Filtrar as previsões apenas para o ano de 2023\n",
    "forecast_distributed_2023 = forecast_distributed[forecast_distributed['NU_ANO_CENSO'] == 2023]\n",
    "\n",
    "# Concatenar as previsões de 2023 com final_forecast\n",
    "final_forecast = pd.concat([final_forecast, forecast_distributed_2023[['NU_ANO_CENSO', 'SG_UF', 'yhat_adjusted', 'QT_VG_TOTAL', 'error_percentage']]])"
   ]
  },
  {
   "cell_type": "code",
   "execution_count": 6,
   "metadata": {},
   "outputs": [
    {
     "data": {
      "application/vnd.plotly.v1+json": {
       "config": {
        "plotlyServerURL": "https://plotly.com"
       },
       "data": [
        {
         "mode": "lines+markers",
         "name": "AC Previsão",
         "type": "scatter",
         "x": [
          2009,
          2010,
          2011,
          2012,
          2013,
          2014,
          2015,
          2016,
          2017,
          2018,
          2019,
          2020,
          2021,
          2022
         ],
         "y": [
          26.06,
          34.01,
          41.52,
          44.9,
          55.69,
          188.2,
          196.21,
          265.7,
          251.17,
          298.05,
          306.53,
          270.61,
          444.36,
          393.37
         ]
        },
        {
         "mode": "lines+markers",
         "name": "AC Real",
         "type": "scatter",
         "x": [
          2009,
          2010,
          2011,
          2012,
          2013,
          2014,
          2015,
          2016,
          2017,
          2018,
          2019,
          2020,
          2021,
          2022
         ],
         "y": [
          40,
          40,
          40,
          40,
          45,
          173,
          182,
          265,
          232,
          317,
          315,
          282,
          446,
          400
         ]
        },
        {
         "marker": {
          "color": "green",
          "size": 10
         },
         "mode": "markers",
         "name": "AC Previsão 2023",
         "type": "scatter",
         "x": [
          2022
         ],
         "y": [
          418.87
         ]
        },
        {
         "mode": "lines+markers",
         "name": "AL Previsão",
         "type": "scatter",
         "x": [
          2009,
          2010,
          2011,
          2012,
          2013,
          2014,
          2015,
          2016,
          2017,
          2018,
          2019,
          2020,
          2021,
          2022
         ],
         "y": [
          84.71,
          110.53,
          134.93,
          145.94,
          165.84,
          431.88,
          419.38,
          608.6,
          677.72,
          522.75,
          538.14,
          619.91,
          558.93,
          562.53
         ]
        },
        {
         "mode": "lines+markers",
         "name": "AL Real",
         "type": "scatter",
         "x": [
          2009,
          2010,
          2011,
          2012,
          2013,
          2014,
          2015,
          2016,
          2017,
          2018,
          2019,
          2020,
          2021,
          2022
         ],
         "y": [
          130,
          130,
          130,
          130,
          134,
          397,
          389,
          607,
          626,
          556,
          553,
          646,
          561,
          572
         ]
        },
        {
         "marker": {
          "color": "green",
          "size": 10
         },
         "mode": "markers",
         "name": "AL Previsão 2023",
         "type": "scatter",
         "x": [
          2022
         ],
         "y": [
          560.73
         ]
        },
        {
         "mode": "lines+markers",
         "name": "AM Previsão",
         "type": "scatter",
         "x": [
          2009,
          2010,
          2011,
          2012,
          2013,
          2014,
          2015,
          2016,
          2017,
          2018,
          2019,
          2020,
          2021,
          2022
         ],
         "y": [
          146.61,
          282.27,
          303.06,
          333.41,
          367.58,
          535.23,
          407.52,
          559.47,
          752.42,
          522.75,
          652.97,
          624.71,
          660.56,
          817.24
         ]
        },
        {
         "mode": "lines+markers",
         "name": "AM Real",
         "type": "scatter",
         "x": [
          2009,
          2010,
          2011,
          2012,
          2013,
          2014,
          2015,
          2016,
          2017,
          2018,
          2019,
          2020,
          2021,
          2022
         ],
         "y": [
          225,
          332,
          292,
          297,
          297,
          492,
          378,
          558,
          695,
          556,
          671,
          651,
          663,
          831
         ]
        },
        {
         "marker": {
          "color": "green",
          "size": 10
         },
         "mode": "markers",
         "name": "AM Previsão 2023",
         "type": "scatter",
         "x": [
          2022
         ],
         "y": [
          738.9
         ]
        },
        {
         "mode": "lines+markers",
         "name": "BA Previsão",
         "type": "scatter",
         "x": [
          2009,
          2010,
          2011,
          2012,
          2013,
          2014,
          2015,
          2016,
          2017,
          2018,
          2019,
          2020,
          2021,
          2022
         ],
         "y": [
          390.96,
          498.23,
          601.98,
          890.23,
          988.87,
          1295.65,
          1361.63,
          1516,
          2170.66,
          2565.82,
          4257.42,
          3555.38,
          5015.46,
          5035.19
         ]
        },
        {
         "mode": "lines+markers",
         "name": "BA Real",
         "type": "scatter",
         "x": [
          2009,
          2010,
          2011,
          2012,
          2013,
          2014,
          2015,
          2016,
          2017,
          2018,
          2019,
          2020,
          2021,
          2022
         ],
         "y": [
          600,
          586,
          580,
          793,
          799,
          1191,
          1263,
          1512,
          2005,
          2729,
          4375,
          3705,
          5034,
          5120
         ]
        },
        {
         "marker": {
          "color": "green",
          "size": 10
         },
         "mode": "markers",
         "name": "BA Previsão 2023",
         "type": "scatter",
         "x": [
          2022
         ],
         "y": [
          5025.33
         ]
        },
        {
         "mode": "lines+markers",
         "name": "CE Previsão",
         "type": "scatter",
         "x": [
          2009,
          2010,
          2011,
          2012,
          2013,
          2014,
          2015,
          2016,
          2017,
          2018,
          2019,
          2020,
          2021,
          2022
         ],
         "y": [
          405.29,
          554.35,
          697.46,
          776.85,
          875.01,
          934.48,
          1479.15,
          1794.73,
          1119.43,
          1625.62,
          1299.12,
          1297.4,
          1388.87,
          1705.28
         ]
        },
        {
         "mode": "lines+markers",
         "name": "CE Real",
         "type": "scatter",
         "x": [
          2009,
          2010,
          2011,
          2012,
          2013,
          2014,
          2015,
          2016,
          2017,
          2018,
          2019,
          2020,
          2021,
          2022
         ],
         "y": [
          622,
          652,
          672,
          692,
          707,
          859,
          1372,
          1790,
          1034,
          1729,
          1335,
          1352,
          1394,
          1734
         ]
        },
        {
         "marker": {
          "color": "green",
          "size": 10
         },
         "mode": "markers",
         "name": "CE Previsão 2023",
         "type": "scatter",
         "x": [
          2022
         ],
         "y": [
          1547.07
         ]
        },
        {
         "mode": "lines+markers",
         "name": "DF Previsão",
         "type": "scatter",
         "x": [
          2009,
          2010,
          2011,
          2012,
          2013,
          2014,
          2015,
          2016,
          2017,
          2018,
          2019,
          2020,
          2021,
          2022
         ],
         "y": [
          205.9,
          266.97,
          315.52,
          341.27,
          441.84,
          624.44,
          517.49,
          472.24,
          601.94,
          519.93,
          679.24,
          665.97,
          759.19,
          710.04
         ]
        },
        {
         "mode": "lines+markers",
         "name": "DF Real",
         "type": "scatter",
         "x": [
          2009,
          2010,
          2011,
          2012,
          2013,
          2014,
          2015,
          2016,
          2017,
          2018,
          2019,
          2020,
          2021,
          2022
         ],
         "y": [
          316,
          314,
          304,
          304,
          357,
          574,
          480,
          471,
          556,
          553,
          698,
          694,
          762,
          722
         ]
        },
        {
         "marker": {
          "color": "green",
          "size": 10
         },
         "mode": "markers",
         "name": "DF Previsão 2023",
         "type": "scatter",
         "x": [
          2022
         ],
         "y": [
          734.62
         ]
        },
        {
         "mode": "lines+markers",
         "name": "ES Previsão",
         "type": "scatter",
         "x": [
          2009,
          2010,
          2011,
          2012,
          2013,
          2014,
          2015,
          2016,
          2017,
          2018,
          2019,
          2020,
          2021,
          2022
         ],
         "y": [
          325.8,
          425.11,
          518.95,
          561.3,
          742.58,
          614.64,
          591.87,
          557.47,
          678.8,
          678.83,
          857.32,
          879.01,
          976.39,
          990.32
         ]
        },
        {
         "mode": "lines+markers",
         "name": "ES Real",
         "type": "scatter",
         "x": [
          2009,
          2010,
          2011,
          2012,
          2013,
          2014,
          2015,
          2016,
          2017,
          2018,
          2019,
          2020,
          2021,
          2022
         ],
         "y": [
          500,
          500,
          500,
          500,
          600,
          565,
          549,
          556,
          627,
          722,
          881,
          916,
          980,
          1007
         ]
        },
        {
         "marker": {
          "color": "green",
          "size": 10
         },
         "mode": "markers",
         "name": "ES Previsão 2023",
         "type": "scatter",
         "x": [
          2022
         ],
         "y": [
          983.36
         ]
        },
        {
         "mode": "lines+markers",
         "name": "GO Previsão",
         "type": "scatter",
         "x": [
          2009,
          2010,
          2011,
          2012,
          2013,
          2014,
          2015,
          2016,
          2017,
          2018,
          2019,
          2020,
          2021,
          2022
         ],
         "y": [
          149.87,
          246.56,
          300.99,
          415.37,
          532.18,
          702.76,
          1095.35,
          1234.25,
          1634.76,
          1510.91,
          1820.72,
          2644.7,
          2905.26,
          2634.62
         ]
        },
        {
         "mode": "lines+markers",
         "name": "GO Real",
         "type": "scatter",
         "x": [
          2009,
          2010,
          2011,
          2012,
          2013,
          2014,
          2015,
          2016,
          2017,
          2018,
          2019,
          2020,
          2021,
          2022
         ],
         "y": [
          230,
          290,
          290,
          370,
          430,
          646,
          1016,
          1231,
          1510,
          1607,
          1871,
          2756,
          2916,
          2679
         ]
        },
        {
         "marker": {
          "color": "green",
          "size": 10
         },
         "mode": "markers",
         "name": "GO Previsão 2023",
         "type": "scatter",
         "x": [
          2022
         ],
         "y": [
          2769.94
         ]
        },
        {
         "mode": "lines+markers",
         "name": "MA Previsão",
         "type": "scatter",
         "x": [
          2009,
          2010,
          2011,
          2012,
          2013,
          2014,
          2015,
          2016,
          2017,
          2018,
          2019,
          2020,
          2021,
          2022
         ],
         "y": [
          149.87,
          195.55,
          265.7,
          258.2,
          352.73,
          537.41,
          527.19,
          619.63,
          556.47,
          570.71,
          755.14,
          692.84,
          822.96,
          1315.84
         ]
        },
        {
         "mode": "lines+markers",
         "name": "MA Real",
         "type": "scatter",
         "x": [
          2009,
          2010,
          2011,
          2012,
          2013,
          2014,
          2015,
          2016,
          2017,
          2018,
          2019,
          2020,
          2021,
          2022
         ],
         "y": [
          230,
          230,
          256,
          230,
          285,
          494,
          489,
          618,
          514,
          607,
          776,
          722,
          826,
          1338
         ]
        },
        {
         "marker": {
          "color": "green",
          "size": 10
         },
         "mode": "markers",
         "name": "MA Previsão 2023",
         "type": "scatter",
         "x": [
          2022
         ],
         "y": [
          1069.4
         ]
        },
        {
         "mode": "lines+markers",
         "name": "MG Previsão",
         "type": "scatter",
         "x": [
          2009,
          2010,
          2011,
          2012,
          2013,
          2014,
          2015,
          2016,
          2017,
          2018,
          2019,
          2020,
          2021,
          2022
         ],
         "y": [
          1797.76,
          2244.59,
          2781.55,
          3148.92,
          3907.21,
          4313.39,
          4506.44,
          4787.62,
          5743.31,
          5482.35,
          5887.41,
          5837.34,
          6247.9,
          6302.84
         ]
        },
        {
         "mode": "lines+markers",
         "name": "MG Real",
         "type": "scatter",
         "x": [
          2009,
          2010,
          2011,
          2012,
          2013,
          2014,
          2015,
          2016,
          2017,
          2018,
          2019,
          2020,
          2021,
          2022
         ],
         "y": [
          2759,
          2640,
          2680,
          2805,
          3157,
          3965,
          4180,
          4775,
          5305,
          5831,
          6050,
          6083,
          6271,
          6409
         ]
        },
        {
         "marker": {
          "color": "green",
          "size": 10
         },
         "mode": "markers",
         "name": "MG Previsão 2023",
         "type": "scatter",
         "x": [
          2022
         ],
         "y": [
          6275.37
         ]
        },
        {
         "mode": "lines+markers",
         "name": "MS Previsão",
         "type": "scatter",
         "x": [
          2009,
          2010,
          2011,
          2012,
          2013,
          2014,
          2015,
          2016,
          2017,
          2018,
          2019,
          2020,
          2021,
          2022
         ],
         "y": [
          112.07,
          161.54,
          186.82,
          213.3,
          235.15,
          380.75,
          453.88,
          514.36,
          505.58,
          372.32,
          474.88,
          749.46,
          701.41,
          836.9
         ]
        },
        {
         "mode": "lines+markers",
         "name": "MS Real",
         "type": "scatter",
         "x": [
          2009,
          2010,
          2011,
          2012,
          2013,
          2014,
          2015,
          2016,
          2017,
          2018,
          2019,
          2020,
          2021,
          2022
         ],
         "y": [
          172,
          190,
          180,
          190,
          190,
          350,
          421,
          513,
          467,
          396,
          488,
          781,
          704,
          851
         ]
        },
        {
         "marker": {
          "color": "green",
          "size": 10
         },
         "mode": "markers",
         "name": "MS Previsão 2023",
         "type": "scatter",
         "x": [
          2022
         ],
         "y": [
          769.16
         ]
        },
        {
         "mode": "lines+markers",
         "name": "MT Previsão",
         "type": "scatter",
         "x": [
          2009,
          2010,
          2011,
          2012,
          2013,
          2014,
          2015,
          2016,
          2017,
          2018,
          2019,
          2020,
          2021,
          2022
         ],
         "y": [
          153.13,
          176.85,
          215.88,
          208.81,
          379.95,
          518.91,
          585.41,
          526.39,
          627.92,
          550.02,
          555.65,
          632.39,
          674.51,
          936.23
         ]
        },
        {
         "mode": "lines+markers",
         "name": "MT Real",
         "type": "scatter",
         "x": [
          2009,
          2010,
          2011,
          2012,
          2013,
          2014,
          2015,
          2016,
          2017,
          2018,
          2019,
          2020,
          2021,
          2022
         ],
         "y": [
          235,
          208,
          208,
          186,
          307,
          477,
          543,
          525,
          580,
          585,
          571,
          659,
          677,
          952
         ]
        },
        {
         "marker": {
          "color": "green",
          "size": 10
         },
         "mode": "markers",
         "name": "MT Previsão 2023",
         "type": "scatter",
         "x": [
          2022
         ],
         "y": [
          805.37
         ]
        },
        {
         "mode": "lines+markers",
         "name": "PA Previsão",
         "type": "scatter",
         "x": [
          2009,
          2010,
          2011,
          2012,
          2013,
          2014,
          2015,
          2016,
          2017,
          2018,
          2019,
          2020,
          2021,
          2022
         ],
         "y": [
          254.12,
          333.29,
          407.89,
          441.19,
          555.7,
          596.15,
          650.09,
          733.93,
          764.33,
          781.31,
          955.61,
          1064.21,
          1407.8,
          1556.78
         ]
        },
        {
         "mode": "lines+markers",
         "name": "PA Real",
         "type": "scatter",
         "x": [
          2009,
          2010,
          2011,
          2012,
          2013,
          2014,
          2015,
          2016,
          2017,
          2018,
          2019,
          2020,
          2021,
          2022
         ],
         "y": [
          390,
          392,
          393,
          393,
          449,
          548,
          603,
          732,
          706,
          831,
          982,
          1109,
          1413,
          1583
         ]
        },
        {
         "marker": {
          "color": "green",
          "size": 10
         },
         "mode": "markers",
         "name": "PA Previsão 2023",
         "type": "scatter",
         "x": [
          2022
         ],
         "y": [
          1482.29
         ]
        },
        {
         "mode": "lines+markers",
         "name": "PB Previsão",
         "type": "scatter",
         "x": [
          2009,
          2010,
          2011,
          2012,
          2013,
          2014,
          2015,
          2016,
          2017,
          2018,
          2019,
          2020,
          2021,
          2022
         ],
         "y": [
          380.53,
          450.62,
          503.38,
          696.02,
          974.02,
          1159.67,
          1092.11,
          1166.07,
          1288.32,
          1285.26,
          1270.9,
          1247.5,
          1617.02,
          1499.74
         ]
        },
        {
         "mode": "lines+markers",
         "name": "PB Real",
         "type": "scatter",
         "x": [
          2009,
          2010,
          2011,
          2012,
          2013,
          2014,
          2015,
          2016,
          2017,
          2018,
          2019,
          2020,
          2021,
          2022
         ],
         "y": [
          584,
          530,
          485,
          620,
          787,
          1066,
          1013,
          1163,
          1190,
          1367,
          1306,
          1300,
          1623,
          1525
         ]
        },
        {
         "marker": {
          "color": "green",
          "size": 10
         },
         "mode": "markers",
         "name": "PB Previsão 2023",
         "type": "scatter",
         "x": [
          2022
         ],
         "y": [
          1558.38
         ]
        },
        {
         "mode": "lines+markers",
         "name": "PE Previsão",
         "type": "scatter",
         "x": [
          2009,
          2010,
          2011,
          2012,
          2013,
          2014,
          2015,
          2016,
          2017,
          2018,
          2019,
          2020,
          2021,
          2022
         ],
         "y": [
          358.38,
          352.84,
          508.57,
          729.7,
          850.26,
          968.2,
          968.13,
          1159.05,
          1387.92,
          1548.52,
          1747.73,
          2069.89,
          2163,
          2606.11
         ]
        },
        {
         "mode": "lines+markers",
         "name": "PE Real",
         "type": "scatter",
         "x": [
          2009,
          2010,
          2011,
          2012,
          2013,
          2014,
          2015,
          2016,
          2017,
          2018,
          2019,
          2020,
          2021,
          2022
         ],
         "y": [
          550,
          415,
          490,
          650,
          687,
          890,
          898,
          1156,
          1282,
          1647,
          1796,
          2157,
          2171,
          2650
         ]
        },
        {
         "marker": {
          "color": "green",
          "size": 10
         },
         "mode": "markers",
         "name": "PE Previsão 2023",
         "type": "scatter",
         "x": [
          2022
         ],
         "y": [
          2384.55
         ]
        },
        {
         "mode": "lines+markers",
         "name": "PI Previsão",
         "type": "scatter",
         "x": [
          2009,
          2010,
          2011,
          2012,
          2013,
          2014,
          2015,
          2016,
          2017,
          2018,
          2019,
          2020,
          2021,
          2022
         ],
         "y": [
          195.48,
          263.57,
          321.75,
          348.01,
          428.22,
          436.23,
          434.47,
          641.69,
          769.74,
          723.02,
          972.15,
          1021.99,
          1376.91,
          1696.43
         ]
        },
        {
         "mode": "lines+markers",
         "name": "PI Real",
         "type": "scatter",
         "x": [
          2009,
          2010,
          2011,
          2012,
          2013,
          2014,
          2015,
          2016,
          2017,
          2018,
          2019,
          2020,
          2021,
          2022
         ],
         "y": [
          300,
          310,
          310,
          310,
          346,
          401,
          403,
          640,
          711,
          769,
          999,
          1065,
          1382,
          1725
         ]
        },
        {
         "marker": {
          "color": "green",
          "size": 10
         },
         "mode": "markers",
         "name": "PI Previsão 2023",
         "type": "scatter",
         "x": [
          2022
         ],
         "y": [
          1536.67
         ]
        },
        {
         "mode": "lines+markers",
         "name": "PR Previsão",
         "type": "scatter",
         "x": [
          2009,
          2010,
          2011,
          2012,
          2013,
          2014,
          2015,
          2016,
          2017,
          2018,
          2019,
          2020,
          2021,
          2022
         ],
         "y": [
          486.09,
          631.72,
          857.3,
          1106.89,
          1547.04,
          1481.67,
          1729.27,
          1654.36,
          2172.82,
          2214.19,
          2596.3,
          2723.39,
          2766.77,
          2848.03
         ]
        },
        {
         "mode": "lines+markers",
         "name": "PR Real",
         "type": "scatter",
         "x": [
          2009,
          2010,
          2011,
          2012,
          2013,
          2014,
          2015,
          2016,
          2017,
          2018,
          2019,
          2020,
          2021,
          2022
         ],
         "y": [
          746,
          743,
          826,
          986,
          1250,
          1362,
          1604,
          1650,
          2007,
          2355,
          2668,
          2838,
          2777,
          2896
         ]
        },
        {
         "marker": {
          "color": "green",
          "size": 10
         },
         "mode": "markers",
         "name": "PR Previsão 2023",
         "type": "scatter",
         "x": [
          2022
         ],
         "y": [
          2807.4
         ]
        },
        {
         "mode": "lines+markers",
         "name": "RJ Previsão",
         "type": "scatter",
         "x": [
          2009,
          2010,
          2011,
          2012,
          2013,
          2014,
          2015,
          2016,
          2017,
          2018,
          2019,
          2020,
          2021,
          2022
         ],
         "y": [
          1507.15,
          2060.09,
          2441.12,
          2507.91,
          2956.71,
          3376.74,
          4812.62,
          5080.39,
          4370.55,
          6108.52,
          4241.85,
          4645.5,
          5048.34,
          4800.15
         ]
        },
        {
         "mode": "lines+markers",
         "name": "RJ Real",
         "type": "scatter",
         "x": [
          2009,
          2010,
          2011,
          2012,
          2013,
          2014,
          2015,
          2016,
          2017,
          2018,
          2019,
          2020,
          2021,
          2022
         ],
         "y": [
          2313,
          2423,
          2352,
          2234,
          2389,
          3104,
          4464,
          5067,
          4037,
          6497,
          4359,
          4841,
          5067,
          4881
         ]
        },
        {
         "marker": {
          "color": "green",
          "size": 10
         },
         "mode": "markers",
         "name": "RJ Previsão 2023",
         "type": "scatter",
         "x": [
          2022
         ],
         "y": [
          4924.24
         ]
        },
        {
         "mode": "lines+markers",
         "name": "RN Previsão",
         "type": "scatter",
         "x": [
          2009,
          2010,
          2011,
          2012,
          2013,
          2014,
          2015,
          2016,
          2017,
          2018,
          2019,
          2020,
          2021,
          2022
         ],
         "y": [
          105.56,
          209.16,
          255.32,
          276.16,
          325.5,
          368.79,
          385.96,
          457.2,
          551.05,
          535.92,
          809.64,
          718.75,
          675.5,
          712.99
         ]
        },
        {
         "mode": "lines+markers",
         "name": "RN Real",
         "type": "scatter",
         "x": [
          2009,
          2010,
          2011,
          2012,
          2013,
          2014,
          2015,
          2016,
          2017,
          2018,
          2019,
          2020,
          2021,
          2022
         ],
         "y": [
          162,
          246,
          246,
          246,
          263,
          339,
          358,
          456,
          509,
          570,
          832,
          749,
          678,
          725
         ]
        },
        {
         "marker": {
          "color": "green",
          "size": 10
         },
         "mode": "markers",
         "name": "RN Previsão 2023",
         "type": "scatter",
         "x": [
          2022
         ],
         "y": [
          694.25
         ]
        },
        {
         "mode": "lines+markers",
         "name": "RO Previsão",
         "type": "scatter",
         "x": [
          2009,
          2010,
          2011,
          2012,
          2013,
          2014,
          2015,
          2016,
          2017,
          2018,
          2019,
          2020,
          2021,
          2022
         ],
         "y": [
          175.93,
          195.55,
          176.44,
          280.65,
          309.41,
          375.31,
          293.24,
          386.02,
          486.1,
          603.61,
          855.38,
          918.35,
          755.21,
          1199.79
         ]
        },
        {
         "mode": "lines+markers",
         "name": "RO Real",
         "type": "scatter",
         "x": [
          2009,
          2010,
          2011,
          2012,
          2013,
          2014,
          2015,
          2016,
          2017,
          2018,
          2019,
          2020,
          2021,
          2022
         ],
         "y": [
          270,
          230,
          170,
          250,
          250,
          345,
          272,
          385,
          449,
          642,
          879,
          957,
          758,
          1220
         ]
        },
        {
         "marker": {
          "color": "green",
          "size": 10
         },
         "mode": "markers",
         "name": "RO Previsão 2023",
         "type": "scatter",
         "x": [
          2022
         ],
         "y": [
          977.5
         ]
        },
        {
         "mode": "lines+markers",
         "name": "RR Previsão",
         "type": "scatter",
         "x": [
          2009,
          2010,
          2011,
          2012,
          2013,
          2014,
          2015,
          2016,
          2017,
          2018,
          2019,
          2020,
          2021,
          2022
         ],
         "y": [
          18.24,
          28.06,
          31.14,
          31.43,
          37.13,
          89.21,
          88.4,
          89.24,
          90.94,
          105.3,
          111.91,
          111.32,
          112.58,
          113.1
         ]
        },
        {
         "mode": "lines+markers",
         "name": "RR Real",
         "type": "scatter",
         "x": [
          2009,
          2010,
          2011,
          2012,
          2013,
          2014,
          2015,
          2016,
          2017,
          2018,
          2019,
          2020,
          2021,
          2022
         ],
         "y": [
          28,
          33,
          30,
          28,
          30,
          82,
          82,
          89,
          84,
          112,
          115,
          116,
          113,
          115
         ]
        },
        {
         "marker": {
          "color": "green",
          "size": 10
         },
         "mode": "markers",
         "name": "RR Previsão 2023",
         "type": "scatter",
         "x": [
          2022
         ],
         "y": [
          112.84
         ]
        },
        {
         "mode": "lines+markers",
         "name": "RS Previsão",
         "type": "scatter",
         "x": [
          2009,
          2010,
          2011,
          2012,
          2013,
          2014,
          2015,
          2016,
          2017,
          2018,
          2019,
          2020,
          2021,
          2022
         ],
         "y": [
          584.48,
          823.87,
          1022.32,
          1111.38,
          1393.58,
          1395.73,
          1562.16,
          1679.43,
          1954.13,
          1820.24,
          2093.19,
          2033.43,
          2173.96,
          2348.45
         ]
        },
        {
         "mode": "lines+markers",
         "name": "RS Real",
         "type": "scatter",
         "x": [
          2009,
          2010,
          2011,
          2012,
          2013,
          2014,
          2015,
          2016,
          2017,
          2018,
          2019,
          2020,
          2021,
          2022
         ],
         "y": [
          897,
          969,
          985,
          990,
          1126,
          1283,
          1449,
          1675,
          1805,
          1936,
          2151,
          2119,
          2182,
          2388
         ]
        },
        {
         "marker": {
          "color": "green",
          "size": 10
         },
         "mode": "markers",
         "name": "RS Previsão 2023",
         "type": "scatter",
         "x": [
          2022
         ],
         "y": [
          2261.2
         ]
        },
        {
         "mode": "lines+markers",
         "name": "SC Previsão",
         "type": "scatter",
         "x": [
          2009,
          2010,
          2011,
          2012,
          2013,
          2014,
          2015,
          2016,
          2017,
          2018,
          2019,
          2020,
          2021,
          2022
         ],
         "y": [
          378.58,
          475.28,
          659.06,
          705,
          1231.45,
          1164.02,
          998.32,
          958.53,
          1053.39,
          1477.06,
          1556.03,
          2078.53,
          2041.45,
          2288.46
         ]
        },
        {
         "mode": "lines+markers",
         "name": "SC Real",
         "type": "scatter",
         "x": [
          2009,
          2010,
          2011,
          2012,
          2013,
          2014,
          2015,
          2016,
          2017,
          2018,
          2019,
          2020,
          2021,
          2022
         ],
         "y": [
          581,
          559,
          635,
          628,
          995,
          1070,
          926,
          956,
          973,
          1571,
          1599,
          2166,
          2049,
          2327
         ]
        },
        {
         "marker": {
          "color": "green",
          "size": 10
         },
         "mode": "markers",
         "name": "SC Previsão 2023",
         "type": "scatter",
         "x": [
          2022
         ],
         "y": [
          2164.95
         ]
        },
        {
         "mode": "lines+markers",
         "name": "SE Previsão",
         "type": "scatter",
         "x": [
          2009,
          2010,
          2011,
          2012,
          2013,
          2014,
          2015,
          2016,
          2017,
          2018,
          2019,
          2020,
          2021,
          2022
         ],
         "y": [
          65.16,
          127.53,
          155.68,
          224.52,
          321.79,
          294.81,
          304.02,
          354.94,
          422.22,
          335.65,
          374.65,
          379.05,
          430.41,
          463.2
         ]
        },
        {
         "mode": "lines+markers",
         "name": "SE Real",
         "type": "scatter",
         "x": [
          2009,
          2010,
          2011,
          2012,
          2013,
          2014,
          2015,
          2016,
          2017,
          2018,
          2019,
          2020,
          2021,
          2022
         ],
         "y": [
          100,
          150,
          150,
          200,
          260,
          271,
          282,
          354,
          390,
          357,
          385,
          395,
          432,
          471
         ]
        },
        {
         "marker": {
          "color": "green",
          "size": 10
         },
         "mode": "markers",
         "name": "SE Previsão 2023",
         "type": "scatter",
         "x": [
          2022
         ],
         "y": [
          446.8
         ]
        },
        {
         "mode": "lines+markers",
         "name": "SP Previsão",
         "type": "scatter",
         "x": [
          2009,
          2010,
          2011,
          2012,
          2013,
          2014,
          2015,
          2016,
          2017,
          2018,
          2019,
          2020,
          2021,
          2022
         ],
         "y": [
          1808.84,
          2487.75,
          2955.91,
          3568.77,
          4517.37,
          5205.44,
          5518.77,
          5903.56,
          8190.04,
          9497.97,
          9660.21,
          10436.78,
          11303.21,
          12363.76
         ]
        },
        {
         "mode": "lines+markers",
         "name": "SP Real",
         "type": "scatter",
         "x": [
          2009,
          2010,
          2011,
          2012,
          2013,
          2014,
          2015,
          2016,
          2017,
          2018,
          2019,
          2020,
          2021,
          2022
         ],
         "y": [
          2776,
          2926,
          2848,
          3179,
          3650,
          4785,
          5119,
          5888,
          7565,
          10102,
          9927,
          10876,
          11345,
          12572
         ]
        },
        {
         "marker": {
          "color": "green",
          "size": 10
         },
         "mode": "markers",
         "name": "SP Previsão 2023",
         "type": "scatter",
         "x": [
          2022
         ],
         "y": [
          11833.49
         ]
        },
        {
         "mode": "lines+markers",
         "name": "TO Previsão",
         "type": "scatter",
         "x": [
          2009,
          2010,
          2011,
          2012,
          2013,
          2014,
          2015,
          2016,
          2017,
          2018,
          2019,
          2020,
          2021,
          2022
         ],
         "y": [
          221.54,
          340.09,
          415.16,
          404.14,
          519.81,
          543.93,
          628.53,
          594.57,
          747.01,
          822.68,
          872.89,
          987.44,
          1129.82,
          939.18
         ]
        },
        {
         "mode": "lines+markers",
         "name": "TO Real",
         "type": "scatter",
         "x": [
          2009,
          2010,
          2011,
          2012,
          2013,
          2014,
          2015,
          2016,
          2017,
          2018,
          2019,
          2020,
          2021,
          2022
         ],
         "y": [
          340,
          400,
          400,
          360,
          420,
          500,
          583,
          593,
          690,
          875,
          897,
          1029,
          1134,
          955
         ]
        },
        {
         "marker": {
          "color": "green",
          "size": 10
         },
         "mode": "markers",
         "name": "TO Previsão 2023",
         "type": "scatter",
         "x": [
          2022
         ],
         "y": [
          1034.5
         ]
        },
        {
         "mode": "lines+markers",
         "name": "AP Previsão",
         "type": "scatter",
         "x": [
          2010,
          2011,
          2012,
          2013,
          2014,
          2015,
          2016,
          2017,
          2018,
          2019,
          2020,
          2021,
          2022
         ],
         "y": [
          25.51,
          31.14,
          33.68,
          40.84,
          35.9,
          70.08,
          64.17,
          64.96,
          72.4,
          58.39,
          57.58,
          59.78,
          59.01
         ]
        },
        {
         "mode": "lines+markers",
         "name": "AP Real",
         "type": "scatter",
         "x": [
          2010,
          2011,
          2012,
          2013,
          2014,
          2015,
          2016,
          2017,
          2018,
          2019,
          2020,
          2021,
          2022
         ],
         "y": [
          30,
          30,
          30,
          33,
          33,
          65,
          64,
          60,
          77,
          60,
          60,
          60,
          60
         ]
        },
        {
         "marker": {
          "color": "green",
          "size": 10
         },
         "mode": "markers",
         "name": "AP Previsão 2023",
         "type": "scatter",
         "x": [
          2022
         ],
         "y": [
          59.39
         ]
        }
       ],
       "layout": {
        "hovermode": "closest",
        "legend": {
         "title": {
          "text": "Séries"
         }
        },
        "template": {
         "data": {
          "bar": [
           {
            "error_x": {
             "color": "#2a3f5f"
            },
            "error_y": {
             "color": "#2a3f5f"
            },
            "marker": {
             "line": {
              "color": "#E5ECF6",
              "width": 0.5
             },
             "pattern": {
              "fillmode": "overlay",
              "size": 10,
              "solidity": 0.2
             }
            },
            "type": "bar"
           }
          ],
          "barpolar": [
           {
            "marker": {
             "line": {
              "color": "#E5ECF6",
              "width": 0.5
             },
             "pattern": {
              "fillmode": "overlay",
              "size": 10,
              "solidity": 0.2
             }
            },
            "type": "barpolar"
           }
          ],
          "carpet": [
           {
            "aaxis": {
             "endlinecolor": "#2a3f5f",
             "gridcolor": "white",
             "linecolor": "white",
             "minorgridcolor": "white",
             "startlinecolor": "#2a3f5f"
            },
            "baxis": {
             "endlinecolor": "#2a3f5f",
             "gridcolor": "white",
             "linecolor": "white",
             "minorgridcolor": "white",
             "startlinecolor": "#2a3f5f"
            },
            "type": "carpet"
           }
          ],
          "choropleth": [
           {
            "colorbar": {
             "outlinewidth": 0,
             "ticks": ""
            },
            "type": "choropleth"
           }
          ],
          "contour": [
           {
            "colorbar": {
             "outlinewidth": 0,
             "ticks": ""
            },
            "colorscale": [
             [
              0,
              "#0d0887"
             ],
             [
              0.1111111111111111,
              "#46039f"
             ],
             [
              0.2222222222222222,
              "#7201a8"
             ],
             [
              0.3333333333333333,
              "#9c179e"
             ],
             [
              0.4444444444444444,
              "#bd3786"
             ],
             [
              0.5555555555555556,
              "#d8576b"
             ],
             [
              0.6666666666666666,
              "#ed7953"
             ],
             [
              0.7777777777777778,
              "#fb9f3a"
             ],
             [
              0.8888888888888888,
              "#fdca26"
             ],
             [
              1,
              "#f0f921"
             ]
            ],
            "type": "contour"
           }
          ],
          "contourcarpet": [
           {
            "colorbar": {
             "outlinewidth": 0,
             "ticks": ""
            },
            "type": "contourcarpet"
           }
          ],
          "heatmap": [
           {
            "colorbar": {
             "outlinewidth": 0,
             "ticks": ""
            },
            "colorscale": [
             [
              0,
              "#0d0887"
             ],
             [
              0.1111111111111111,
              "#46039f"
             ],
             [
              0.2222222222222222,
              "#7201a8"
             ],
             [
              0.3333333333333333,
              "#9c179e"
             ],
             [
              0.4444444444444444,
              "#bd3786"
             ],
             [
              0.5555555555555556,
              "#d8576b"
             ],
             [
              0.6666666666666666,
              "#ed7953"
             ],
             [
              0.7777777777777778,
              "#fb9f3a"
             ],
             [
              0.8888888888888888,
              "#fdca26"
             ],
             [
              1,
              "#f0f921"
             ]
            ],
            "type": "heatmap"
           }
          ],
          "heatmapgl": [
           {
            "colorbar": {
             "outlinewidth": 0,
             "ticks": ""
            },
            "colorscale": [
             [
              0,
              "#0d0887"
             ],
             [
              0.1111111111111111,
              "#46039f"
             ],
             [
              0.2222222222222222,
              "#7201a8"
             ],
             [
              0.3333333333333333,
              "#9c179e"
             ],
             [
              0.4444444444444444,
              "#bd3786"
             ],
             [
              0.5555555555555556,
              "#d8576b"
             ],
             [
              0.6666666666666666,
              "#ed7953"
             ],
             [
              0.7777777777777778,
              "#fb9f3a"
             ],
             [
              0.8888888888888888,
              "#fdca26"
             ],
             [
              1,
              "#f0f921"
             ]
            ],
            "type": "heatmapgl"
           }
          ],
          "histogram": [
           {
            "marker": {
             "pattern": {
              "fillmode": "overlay",
              "size": 10,
              "solidity": 0.2
             }
            },
            "type": "histogram"
           }
          ],
          "histogram2d": [
           {
            "colorbar": {
             "outlinewidth": 0,
             "ticks": ""
            },
            "colorscale": [
             [
              0,
              "#0d0887"
             ],
             [
              0.1111111111111111,
              "#46039f"
             ],
             [
              0.2222222222222222,
              "#7201a8"
             ],
             [
              0.3333333333333333,
              "#9c179e"
             ],
             [
              0.4444444444444444,
              "#bd3786"
             ],
             [
              0.5555555555555556,
              "#d8576b"
             ],
             [
              0.6666666666666666,
              "#ed7953"
             ],
             [
              0.7777777777777778,
              "#fb9f3a"
             ],
             [
              0.8888888888888888,
              "#fdca26"
             ],
             [
              1,
              "#f0f921"
             ]
            ],
            "type": "histogram2d"
           }
          ],
          "histogram2dcontour": [
           {
            "colorbar": {
             "outlinewidth": 0,
             "ticks": ""
            },
            "colorscale": [
             [
              0,
              "#0d0887"
             ],
             [
              0.1111111111111111,
              "#46039f"
             ],
             [
              0.2222222222222222,
              "#7201a8"
             ],
             [
              0.3333333333333333,
              "#9c179e"
             ],
             [
              0.4444444444444444,
              "#bd3786"
             ],
             [
              0.5555555555555556,
              "#d8576b"
             ],
             [
              0.6666666666666666,
              "#ed7953"
             ],
             [
              0.7777777777777778,
              "#fb9f3a"
             ],
             [
              0.8888888888888888,
              "#fdca26"
             ],
             [
              1,
              "#f0f921"
             ]
            ],
            "type": "histogram2dcontour"
           }
          ],
          "mesh3d": [
           {
            "colorbar": {
             "outlinewidth": 0,
             "ticks": ""
            },
            "type": "mesh3d"
           }
          ],
          "parcoords": [
           {
            "line": {
             "colorbar": {
              "outlinewidth": 0,
              "ticks": ""
             }
            },
            "type": "parcoords"
           }
          ],
          "pie": [
           {
            "automargin": true,
            "type": "pie"
           }
          ],
          "scatter": [
           {
            "fillpattern": {
             "fillmode": "overlay",
             "size": 10,
             "solidity": 0.2
            },
            "type": "scatter"
           }
          ],
          "scatter3d": [
           {
            "line": {
             "colorbar": {
              "outlinewidth": 0,
              "ticks": ""
             }
            },
            "marker": {
             "colorbar": {
              "outlinewidth": 0,
              "ticks": ""
             }
            },
            "type": "scatter3d"
           }
          ],
          "scattercarpet": [
           {
            "marker": {
             "colorbar": {
              "outlinewidth": 0,
              "ticks": ""
             }
            },
            "type": "scattercarpet"
           }
          ],
          "scattergeo": [
           {
            "marker": {
             "colorbar": {
              "outlinewidth": 0,
              "ticks": ""
             }
            },
            "type": "scattergeo"
           }
          ],
          "scattergl": [
           {
            "marker": {
             "colorbar": {
              "outlinewidth": 0,
              "ticks": ""
             }
            },
            "type": "scattergl"
           }
          ],
          "scattermapbox": [
           {
            "marker": {
             "colorbar": {
              "outlinewidth": 0,
              "ticks": ""
             }
            },
            "type": "scattermapbox"
           }
          ],
          "scatterpolar": [
           {
            "marker": {
             "colorbar": {
              "outlinewidth": 0,
              "ticks": ""
             }
            },
            "type": "scatterpolar"
           }
          ],
          "scatterpolargl": [
           {
            "marker": {
             "colorbar": {
              "outlinewidth": 0,
              "ticks": ""
             }
            },
            "type": "scatterpolargl"
           }
          ],
          "scatterternary": [
           {
            "marker": {
             "colorbar": {
              "outlinewidth": 0,
              "ticks": ""
             }
            },
            "type": "scatterternary"
           }
          ],
          "surface": [
           {
            "colorbar": {
             "outlinewidth": 0,
             "ticks": ""
            },
            "colorscale": [
             [
              0,
              "#0d0887"
             ],
             [
              0.1111111111111111,
              "#46039f"
             ],
             [
              0.2222222222222222,
              "#7201a8"
             ],
             [
              0.3333333333333333,
              "#9c179e"
             ],
             [
              0.4444444444444444,
              "#bd3786"
             ],
             [
              0.5555555555555556,
              "#d8576b"
             ],
             [
              0.6666666666666666,
              "#ed7953"
             ],
             [
              0.7777777777777778,
              "#fb9f3a"
             ],
             [
              0.8888888888888888,
              "#fdca26"
             ],
             [
              1,
              "#f0f921"
             ]
            ],
            "type": "surface"
           }
          ],
          "table": [
           {
            "cells": {
             "fill": {
              "color": "#EBF0F8"
             },
             "line": {
              "color": "white"
             }
            },
            "header": {
             "fill": {
              "color": "#C8D4E3"
             },
             "line": {
              "color": "white"
             }
            },
            "type": "table"
           }
          ]
         },
         "layout": {
          "annotationdefaults": {
           "arrowcolor": "#2a3f5f",
           "arrowhead": 0,
           "arrowwidth": 1
          },
          "autotypenumbers": "strict",
          "coloraxis": {
           "colorbar": {
            "outlinewidth": 0,
            "ticks": ""
           }
          },
          "colorscale": {
           "diverging": [
            [
             0,
             "#8e0152"
            ],
            [
             0.1,
             "#c51b7d"
            ],
            [
             0.2,
             "#de77ae"
            ],
            [
             0.3,
             "#f1b6da"
            ],
            [
             0.4,
             "#fde0ef"
            ],
            [
             0.5,
             "#f7f7f7"
            ],
            [
             0.6,
             "#e6f5d0"
            ],
            [
             0.7,
             "#b8e186"
            ],
            [
             0.8,
             "#7fbc41"
            ],
            [
             0.9,
             "#4d9221"
            ],
            [
             1,
             "#276419"
            ]
           ],
           "sequential": [
            [
             0,
             "#0d0887"
            ],
            [
             0.1111111111111111,
             "#46039f"
            ],
            [
             0.2222222222222222,
             "#7201a8"
            ],
            [
             0.3333333333333333,
             "#9c179e"
            ],
            [
             0.4444444444444444,
             "#bd3786"
            ],
            [
             0.5555555555555556,
             "#d8576b"
            ],
            [
             0.6666666666666666,
             "#ed7953"
            ],
            [
             0.7777777777777778,
             "#fb9f3a"
            ],
            [
             0.8888888888888888,
             "#fdca26"
            ],
            [
             1,
             "#f0f921"
            ]
           ],
           "sequentialminus": [
            [
             0,
             "#0d0887"
            ],
            [
             0.1111111111111111,
             "#46039f"
            ],
            [
             0.2222222222222222,
             "#7201a8"
            ],
            [
             0.3333333333333333,
             "#9c179e"
            ],
            [
             0.4444444444444444,
             "#bd3786"
            ],
            [
             0.5555555555555556,
             "#d8576b"
            ],
            [
             0.6666666666666666,
             "#ed7953"
            ],
            [
             0.7777777777777778,
             "#fb9f3a"
            ],
            [
             0.8888888888888888,
             "#fdca26"
            ],
            [
             1,
             "#f0f921"
            ]
           ]
          },
          "colorway": [
           "#636efa",
           "#EF553B",
           "#00cc96",
           "#ab63fa",
           "#FFA15A",
           "#19d3f3",
           "#FF6692",
           "#B6E880",
           "#FF97FF",
           "#FECB52"
          ],
          "font": {
           "color": "#2a3f5f"
          },
          "geo": {
           "bgcolor": "white",
           "lakecolor": "white",
           "landcolor": "#E5ECF6",
           "showlakes": true,
           "showland": true,
           "subunitcolor": "white"
          },
          "hoverlabel": {
           "align": "left"
          },
          "hovermode": "closest",
          "mapbox": {
           "style": "light"
          },
          "paper_bgcolor": "white",
          "plot_bgcolor": "#E5ECF6",
          "polar": {
           "angularaxis": {
            "gridcolor": "white",
            "linecolor": "white",
            "ticks": ""
           },
           "bgcolor": "#E5ECF6",
           "radialaxis": {
            "gridcolor": "white",
            "linecolor": "white",
            "ticks": ""
           }
          },
          "scene": {
           "xaxis": {
            "backgroundcolor": "#E5ECF6",
            "gridcolor": "white",
            "gridwidth": 2,
            "linecolor": "white",
            "showbackground": true,
            "ticks": "",
            "zerolinecolor": "white"
           },
           "yaxis": {
            "backgroundcolor": "#E5ECF6",
            "gridcolor": "white",
            "gridwidth": 2,
            "linecolor": "white",
            "showbackground": true,
            "ticks": "",
            "zerolinecolor": "white"
           },
           "zaxis": {
            "backgroundcolor": "#E5ECF6",
            "gridcolor": "white",
            "gridwidth": 2,
            "linecolor": "white",
            "showbackground": true,
            "ticks": "",
            "zerolinecolor": "white"
           }
          },
          "shapedefaults": {
           "line": {
            "color": "#2a3f5f"
           }
          },
          "ternary": {
           "aaxis": {
            "gridcolor": "white",
            "linecolor": "white",
            "ticks": ""
           },
           "baxis": {
            "gridcolor": "white",
            "linecolor": "white",
            "ticks": ""
           },
           "bgcolor": "#E5ECF6",
           "caxis": {
            "gridcolor": "white",
            "linecolor": "white",
            "ticks": ""
           }
          },
          "title": {
           "x": 0.05
          },
          "xaxis": {
           "automargin": true,
           "gridcolor": "white",
           "linecolor": "white",
           "ticks": "",
           "title": {
            "standoff": 15
           },
           "zerolinecolor": "white",
           "zerolinewidth": 2
          },
          "yaxis": {
           "automargin": true,
           "gridcolor": "white",
           "linecolor": "white",
           "ticks": "",
           "title": {
            "standoff": 15
           },
           "zerolinecolor": "white",
           "zerolinewidth": 2
          }
         }
        },
        "title": {
         "text": "Previsão Ajustada e Valores Reais por UF"
        },
        "updatemenus": [
         {
          "active": 0,
          "buttons": [
           {
            "args": [
             {
              "visible": [
               true,
               true,
               true,
               true,
               true,
               true,
               true,
               true,
               true,
               true,
               true,
               true,
               true,
               true,
               true,
               true,
               true,
               true,
               true,
               true,
               true,
               true,
               true,
               true,
               true,
               true,
               true,
               true,
               true,
               true,
               true,
               true,
               true,
               true,
               true,
               true,
               true,
               true,
               true,
               true,
               true,
               true,
               true,
               true,
               true,
               true,
               true,
               true,
               true,
               true,
               true,
               true,
               true,
               true,
               true,
               true,
               true,
               true,
               true,
               true,
               true,
               true,
               true,
               true,
               true,
               true,
               true,
               true,
               true,
               true,
               true,
               true,
               true,
               true,
               true,
               true,
               true,
               true,
               true,
               true,
               true
              ]
             },
             {
              "title": "Previsão Ajustada, Valores Reais por UF"
             }
            ],
            "label": "Todos",
            "method": "update"
           },
           {
            "args": [
             {
              "visible": [
               true,
               true,
               true,
               false,
               false,
               false,
               false,
               false,
               false,
               false,
               false,
               false,
               false,
               false,
               false,
               false,
               false,
               false,
               false,
               false,
               false,
               false,
               false,
               false,
               false,
               false,
               false,
               false,
               false,
               false,
               false,
               false,
               false,
               false,
               false,
               false,
               false,
               false,
               false,
               false,
               false,
               false,
               false,
               false,
               false,
               false,
               false,
               false,
               false,
               false,
               false,
               false,
               false,
               false,
               false,
               false,
               false,
               false,
               false,
               false,
               false,
               false,
               false,
               false,
               false,
               false,
               false,
               false,
               false,
               false,
               false,
               false,
               false,
               false,
               false,
               false,
               false,
               false,
               false,
               false,
               false
              ]
             },
             {
              "title": "Previsão e Valores Reais para AC"
             }
            ],
            "label": "AC",
            "method": "update"
           },
           {
            "args": [
             {
              "visible": [
               false,
               false,
               false,
               true,
               true,
               true,
               false,
               false,
               false,
               false,
               false,
               false,
               false,
               false,
               false,
               false,
               false,
               false,
               false,
               false,
               false,
               false,
               false,
               false,
               false,
               false,
               false,
               false,
               false,
               false,
               false,
               false,
               false,
               false,
               false,
               false,
               false,
               false,
               false,
               false,
               false,
               false,
               false,
               false,
               false,
               false,
               false,
               false,
               false,
               false,
               false,
               false,
               false,
               false,
               false,
               false,
               false,
               false,
               false,
               false,
               false,
               false,
               false,
               false,
               false,
               false,
               false,
               false,
               false,
               false,
               false,
               false,
               false,
               false,
               false,
               false,
               false,
               false,
               false,
               false,
               false
              ]
             },
             {
              "title": "Previsão e Valores Reais para AL"
             }
            ],
            "label": "AL",
            "method": "update"
           },
           {
            "args": [
             {
              "visible": [
               false,
               false,
               false,
               false,
               false,
               false,
               true,
               true,
               true,
               false,
               false,
               false,
               false,
               false,
               false,
               false,
               false,
               false,
               false,
               false,
               false,
               false,
               false,
               false,
               false,
               false,
               false,
               false,
               false,
               false,
               false,
               false,
               false,
               false,
               false,
               false,
               false,
               false,
               false,
               false,
               false,
               false,
               false,
               false,
               false,
               false,
               false,
               false,
               false,
               false,
               false,
               false,
               false,
               false,
               false,
               false,
               false,
               false,
               false,
               false,
               false,
               false,
               false,
               false,
               false,
               false,
               false,
               false,
               false,
               false,
               false,
               false,
               false,
               false,
               false,
               false,
               false,
               false,
               false,
               false,
               false
              ]
             },
             {
              "title": "Previsão e Valores Reais para AM"
             }
            ],
            "label": "AM",
            "method": "update"
           },
           {
            "args": [
             {
              "visible": [
               false,
               false,
               false,
               false,
               false,
               false,
               false,
               false,
               false,
               true,
               true,
               true,
               false,
               false,
               false,
               false,
               false,
               false,
               false,
               false,
               false,
               false,
               false,
               false,
               false,
               false,
               false,
               false,
               false,
               false,
               false,
               false,
               false,
               false,
               false,
               false,
               false,
               false,
               false,
               false,
               false,
               false,
               false,
               false,
               false,
               false,
               false,
               false,
               false,
               false,
               false,
               false,
               false,
               false,
               false,
               false,
               false,
               false,
               false,
               false,
               false,
               false,
               false,
               false,
               false,
               false,
               false,
               false,
               false,
               false,
               false,
               false,
               false,
               false,
               false,
               false,
               false,
               false,
               false,
               false,
               false
              ]
             },
             {
              "title": "Previsão e Valores Reais para BA"
             }
            ],
            "label": "BA",
            "method": "update"
           },
           {
            "args": [
             {
              "visible": [
               false,
               false,
               false,
               false,
               false,
               false,
               false,
               false,
               false,
               false,
               false,
               false,
               true,
               true,
               true,
               false,
               false,
               false,
               false,
               false,
               false,
               false,
               false,
               false,
               false,
               false,
               false,
               false,
               false,
               false,
               false,
               false,
               false,
               false,
               false,
               false,
               false,
               false,
               false,
               false,
               false,
               false,
               false,
               false,
               false,
               false,
               false,
               false,
               false,
               false,
               false,
               false,
               false,
               false,
               false,
               false,
               false,
               false,
               false,
               false,
               false,
               false,
               false,
               false,
               false,
               false,
               false,
               false,
               false,
               false,
               false,
               false,
               false,
               false,
               false,
               false,
               false,
               false,
               false,
               false,
               false
              ]
             },
             {
              "title": "Previsão e Valores Reais para CE"
             }
            ],
            "label": "CE",
            "method": "update"
           },
           {
            "args": [
             {
              "visible": [
               false,
               false,
               false,
               false,
               false,
               false,
               false,
               false,
               false,
               false,
               false,
               false,
               false,
               false,
               false,
               true,
               true,
               true,
               false,
               false,
               false,
               false,
               false,
               false,
               false,
               false,
               false,
               false,
               false,
               false,
               false,
               false,
               false,
               false,
               false,
               false,
               false,
               false,
               false,
               false,
               false,
               false,
               false,
               false,
               false,
               false,
               false,
               false,
               false,
               false,
               false,
               false,
               false,
               false,
               false,
               false,
               false,
               false,
               false,
               false,
               false,
               false,
               false,
               false,
               false,
               false,
               false,
               false,
               false,
               false,
               false,
               false,
               false,
               false,
               false,
               false,
               false,
               false,
               false,
               false,
               false
              ]
             },
             {
              "title": "Previsão e Valores Reais para DF"
             }
            ],
            "label": "DF",
            "method": "update"
           },
           {
            "args": [
             {
              "visible": [
               false,
               false,
               false,
               false,
               false,
               false,
               false,
               false,
               false,
               false,
               false,
               false,
               false,
               false,
               false,
               false,
               false,
               false,
               true,
               true,
               true,
               false,
               false,
               false,
               false,
               false,
               false,
               false,
               false,
               false,
               false,
               false,
               false,
               false,
               false,
               false,
               false,
               false,
               false,
               false,
               false,
               false,
               false,
               false,
               false,
               false,
               false,
               false,
               false,
               false,
               false,
               false,
               false,
               false,
               false,
               false,
               false,
               false,
               false,
               false,
               false,
               false,
               false,
               false,
               false,
               false,
               false,
               false,
               false,
               false,
               false,
               false,
               false,
               false,
               false,
               false,
               false,
               false,
               false,
               false,
               false
              ]
             },
             {
              "title": "Previsão e Valores Reais para ES"
             }
            ],
            "label": "ES",
            "method": "update"
           },
           {
            "args": [
             {
              "visible": [
               false,
               false,
               false,
               false,
               false,
               false,
               false,
               false,
               false,
               false,
               false,
               false,
               false,
               false,
               false,
               false,
               false,
               false,
               false,
               false,
               false,
               true,
               true,
               true,
               false,
               false,
               false,
               false,
               false,
               false,
               false,
               false,
               false,
               false,
               false,
               false,
               false,
               false,
               false,
               false,
               false,
               false,
               false,
               false,
               false,
               false,
               false,
               false,
               false,
               false,
               false,
               false,
               false,
               false,
               false,
               false,
               false,
               false,
               false,
               false,
               false,
               false,
               false,
               false,
               false,
               false,
               false,
               false,
               false,
               false,
               false,
               false,
               false,
               false,
               false,
               false,
               false,
               false,
               false,
               false,
               false
              ]
             },
             {
              "title": "Previsão e Valores Reais para GO"
             }
            ],
            "label": "GO",
            "method": "update"
           },
           {
            "args": [
             {
              "visible": [
               false,
               false,
               false,
               false,
               false,
               false,
               false,
               false,
               false,
               false,
               false,
               false,
               false,
               false,
               false,
               false,
               false,
               false,
               false,
               false,
               false,
               false,
               false,
               false,
               true,
               true,
               true,
               false,
               false,
               false,
               false,
               false,
               false,
               false,
               false,
               false,
               false,
               false,
               false,
               false,
               false,
               false,
               false,
               false,
               false,
               false,
               false,
               false,
               false,
               false,
               false,
               false,
               false,
               false,
               false,
               false,
               false,
               false,
               false,
               false,
               false,
               false,
               false,
               false,
               false,
               false,
               false,
               false,
               false,
               false,
               false,
               false,
               false,
               false,
               false,
               false,
               false,
               false,
               false,
               false,
               false
              ]
             },
             {
              "title": "Previsão e Valores Reais para MA"
             }
            ],
            "label": "MA",
            "method": "update"
           },
           {
            "args": [
             {
              "visible": [
               false,
               false,
               false,
               false,
               false,
               false,
               false,
               false,
               false,
               false,
               false,
               false,
               false,
               false,
               false,
               false,
               false,
               false,
               false,
               false,
               false,
               false,
               false,
               false,
               false,
               false,
               false,
               true,
               true,
               true,
               false,
               false,
               false,
               false,
               false,
               false,
               false,
               false,
               false,
               false,
               false,
               false,
               false,
               false,
               false,
               false,
               false,
               false,
               false,
               false,
               false,
               false,
               false,
               false,
               false,
               false,
               false,
               false,
               false,
               false,
               false,
               false,
               false,
               false,
               false,
               false,
               false,
               false,
               false,
               false,
               false,
               false,
               false,
               false,
               false,
               false,
               false,
               false,
               false,
               false,
               false
              ]
             },
             {
              "title": "Previsão e Valores Reais para MG"
             }
            ],
            "label": "MG",
            "method": "update"
           },
           {
            "args": [
             {
              "visible": [
               false,
               false,
               false,
               false,
               false,
               false,
               false,
               false,
               false,
               false,
               false,
               false,
               false,
               false,
               false,
               false,
               false,
               false,
               false,
               false,
               false,
               false,
               false,
               false,
               false,
               false,
               false,
               false,
               false,
               false,
               true,
               true,
               true,
               false,
               false,
               false,
               false,
               false,
               false,
               false,
               false,
               false,
               false,
               false,
               false,
               false,
               false,
               false,
               false,
               false,
               false,
               false,
               false,
               false,
               false,
               false,
               false,
               false,
               false,
               false,
               false,
               false,
               false,
               false,
               false,
               false,
               false,
               false,
               false,
               false,
               false,
               false,
               false,
               false,
               false,
               false,
               false,
               false,
               false,
               false,
               false
              ]
             },
             {
              "title": "Previsão e Valores Reais para MS"
             }
            ],
            "label": "MS",
            "method": "update"
           },
           {
            "args": [
             {
              "visible": [
               false,
               false,
               false,
               false,
               false,
               false,
               false,
               false,
               false,
               false,
               false,
               false,
               false,
               false,
               false,
               false,
               false,
               false,
               false,
               false,
               false,
               false,
               false,
               false,
               false,
               false,
               false,
               false,
               false,
               false,
               false,
               false,
               false,
               true,
               true,
               true,
               false,
               false,
               false,
               false,
               false,
               false,
               false,
               false,
               false,
               false,
               false,
               false,
               false,
               false,
               false,
               false,
               false,
               false,
               false,
               false,
               false,
               false,
               false,
               false,
               false,
               false,
               false,
               false,
               false,
               false,
               false,
               false,
               false,
               false,
               false,
               false,
               false,
               false,
               false,
               false,
               false,
               false,
               false,
               false,
               false
              ]
             },
             {
              "title": "Previsão e Valores Reais para MT"
             }
            ],
            "label": "MT",
            "method": "update"
           },
           {
            "args": [
             {
              "visible": [
               false,
               false,
               false,
               false,
               false,
               false,
               false,
               false,
               false,
               false,
               false,
               false,
               false,
               false,
               false,
               false,
               false,
               false,
               false,
               false,
               false,
               false,
               false,
               false,
               false,
               false,
               false,
               false,
               false,
               false,
               false,
               false,
               false,
               false,
               false,
               false,
               true,
               true,
               true,
               false,
               false,
               false,
               false,
               false,
               false,
               false,
               false,
               false,
               false,
               false,
               false,
               false,
               false,
               false,
               false,
               false,
               false,
               false,
               false,
               false,
               false,
               false,
               false,
               false,
               false,
               false,
               false,
               false,
               false,
               false,
               false,
               false,
               false,
               false,
               false,
               false,
               false,
               false,
               false,
               false,
               false
              ]
             },
             {
              "title": "Previsão e Valores Reais para PA"
             }
            ],
            "label": "PA",
            "method": "update"
           },
           {
            "args": [
             {
              "visible": [
               false,
               false,
               false,
               false,
               false,
               false,
               false,
               false,
               false,
               false,
               false,
               false,
               false,
               false,
               false,
               false,
               false,
               false,
               false,
               false,
               false,
               false,
               false,
               false,
               false,
               false,
               false,
               false,
               false,
               false,
               false,
               false,
               false,
               false,
               false,
               false,
               false,
               false,
               false,
               true,
               true,
               true,
               false,
               false,
               false,
               false,
               false,
               false,
               false,
               false,
               false,
               false,
               false,
               false,
               false,
               false,
               false,
               false,
               false,
               false,
               false,
               false,
               false,
               false,
               false,
               false,
               false,
               false,
               false,
               false,
               false,
               false,
               false,
               false,
               false,
               false,
               false,
               false,
               false,
               false,
               false
              ]
             },
             {
              "title": "Previsão e Valores Reais para PB"
             }
            ],
            "label": "PB",
            "method": "update"
           },
           {
            "args": [
             {
              "visible": [
               false,
               false,
               false,
               false,
               false,
               false,
               false,
               false,
               false,
               false,
               false,
               false,
               false,
               false,
               false,
               false,
               false,
               false,
               false,
               false,
               false,
               false,
               false,
               false,
               false,
               false,
               false,
               false,
               false,
               false,
               false,
               false,
               false,
               false,
               false,
               false,
               false,
               false,
               false,
               false,
               false,
               false,
               true,
               true,
               true,
               false,
               false,
               false,
               false,
               false,
               false,
               false,
               false,
               false,
               false,
               false,
               false,
               false,
               false,
               false,
               false,
               false,
               false,
               false,
               false,
               false,
               false,
               false,
               false,
               false,
               false,
               false,
               false,
               false,
               false,
               false,
               false,
               false,
               false,
               false,
               false
              ]
             },
             {
              "title": "Previsão e Valores Reais para PE"
             }
            ],
            "label": "PE",
            "method": "update"
           },
           {
            "args": [
             {
              "visible": [
               false,
               false,
               false,
               false,
               false,
               false,
               false,
               false,
               false,
               false,
               false,
               false,
               false,
               false,
               false,
               false,
               false,
               false,
               false,
               false,
               false,
               false,
               false,
               false,
               false,
               false,
               false,
               false,
               false,
               false,
               false,
               false,
               false,
               false,
               false,
               false,
               false,
               false,
               false,
               false,
               false,
               false,
               false,
               false,
               false,
               true,
               true,
               true,
               false,
               false,
               false,
               false,
               false,
               false,
               false,
               false,
               false,
               false,
               false,
               false,
               false,
               false,
               false,
               false,
               false,
               false,
               false,
               false,
               false,
               false,
               false,
               false,
               false,
               false,
               false,
               false,
               false,
               false,
               false,
               false,
               false
              ]
             },
             {
              "title": "Previsão e Valores Reais para PI"
             }
            ],
            "label": "PI",
            "method": "update"
           },
           {
            "args": [
             {
              "visible": [
               false,
               false,
               false,
               false,
               false,
               false,
               false,
               false,
               false,
               false,
               false,
               false,
               false,
               false,
               false,
               false,
               false,
               false,
               false,
               false,
               false,
               false,
               false,
               false,
               false,
               false,
               false,
               false,
               false,
               false,
               false,
               false,
               false,
               false,
               false,
               false,
               false,
               false,
               false,
               false,
               false,
               false,
               false,
               false,
               false,
               false,
               false,
               false,
               true,
               true,
               true,
               false,
               false,
               false,
               false,
               false,
               false,
               false,
               false,
               false,
               false,
               false,
               false,
               false,
               false,
               false,
               false,
               false,
               false,
               false,
               false,
               false,
               false,
               false,
               false,
               false,
               false,
               false,
               false,
               false,
               false
              ]
             },
             {
              "title": "Previsão e Valores Reais para PR"
             }
            ],
            "label": "PR",
            "method": "update"
           },
           {
            "args": [
             {
              "visible": [
               false,
               false,
               false,
               false,
               false,
               false,
               false,
               false,
               false,
               false,
               false,
               false,
               false,
               false,
               false,
               false,
               false,
               false,
               false,
               false,
               false,
               false,
               false,
               false,
               false,
               false,
               false,
               false,
               false,
               false,
               false,
               false,
               false,
               false,
               false,
               false,
               false,
               false,
               false,
               false,
               false,
               false,
               false,
               false,
               false,
               false,
               false,
               false,
               false,
               false,
               false,
               true,
               true,
               true,
               false,
               false,
               false,
               false,
               false,
               false,
               false,
               false,
               false,
               false,
               false,
               false,
               false,
               false,
               false,
               false,
               false,
               false,
               false,
               false,
               false,
               false,
               false,
               false,
               false,
               false,
               false
              ]
             },
             {
              "title": "Previsão e Valores Reais para RJ"
             }
            ],
            "label": "RJ",
            "method": "update"
           },
           {
            "args": [
             {
              "visible": [
               false,
               false,
               false,
               false,
               false,
               false,
               false,
               false,
               false,
               false,
               false,
               false,
               false,
               false,
               false,
               false,
               false,
               false,
               false,
               false,
               false,
               false,
               false,
               false,
               false,
               false,
               false,
               false,
               false,
               false,
               false,
               false,
               false,
               false,
               false,
               false,
               false,
               false,
               false,
               false,
               false,
               false,
               false,
               false,
               false,
               false,
               false,
               false,
               false,
               false,
               false,
               false,
               false,
               false,
               true,
               true,
               true,
               false,
               false,
               false,
               false,
               false,
               false,
               false,
               false,
               false,
               false,
               false,
               false,
               false,
               false,
               false,
               false,
               false,
               false,
               false,
               false,
               false,
               false,
               false,
               false
              ]
             },
             {
              "title": "Previsão e Valores Reais para RN"
             }
            ],
            "label": "RN",
            "method": "update"
           },
           {
            "args": [
             {
              "visible": [
               false,
               false,
               false,
               false,
               false,
               false,
               false,
               false,
               false,
               false,
               false,
               false,
               false,
               false,
               false,
               false,
               false,
               false,
               false,
               false,
               false,
               false,
               false,
               false,
               false,
               false,
               false,
               false,
               false,
               false,
               false,
               false,
               false,
               false,
               false,
               false,
               false,
               false,
               false,
               false,
               false,
               false,
               false,
               false,
               false,
               false,
               false,
               false,
               false,
               false,
               false,
               false,
               false,
               false,
               false,
               false,
               false,
               true,
               true,
               true,
               false,
               false,
               false,
               false,
               false,
               false,
               false,
               false,
               false,
               false,
               false,
               false,
               false,
               false,
               false,
               false,
               false,
               false,
               false,
               false,
               false
              ]
             },
             {
              "title": "Previsão e Valores Reais para RO"
             }
            ],
            "label": "RO",
            "method": "update"
           },
           {
            "args": [
             {
              "visible": [
               false,
               false,
               false,
               false,
               false,
               false,
               false,
               false,
               false,
               false,
               false,
               false,
               false,
               false,
               false,
               false,
               false,
               false,
               false,
               false,
               false,
               false,
               false,
               false,
               false,
               false,
               false,
               false,
               false,
               false,
               false,
               false,
               false,
               false,
               false,
               false,
               false,
               false,
               false,
               false,
               false,
               false,
               false,
               false,
               false,
               false,
               false,
               false,
               false,
               false,
               false,
               false,
               false,
               false,
               false,
               false,
               false,
               false,
               false,
               false,
               true,
               true,
               true,
               false,
               false,
               false,
               false,
               false,
               false,
               false,
               false,
               false,
               false,
               false,
               false,
               false,
               false,
               false,
               false,
               false,
               false
              ]
             },
             {
              "title": "Previsão e Valores Reais para RR"
             }
            ],
            "label": "RR",
            "method": "update"
           },
           {
            "args": [
             {
              "visible": [
               false,
               false,
               false,
               false,
               false,
               false,
               false,
               false,
               false,
               false,
               false,
               false,
               false,
               false,
               false,
               false,
               false,
               false,
               false,
               false,
               false,
               false,
               false,
               false,
               false,
               false,
               false,
               false,
               false,
               false,
               false,
               false,
               false,
               false,
               false,
               false,
               false,
               false,
               false,
               false,
               false,
               false,
               false,
               false,
               false,
               false,
               false,
               false,
               false,
               false,
               false,
               false,
               false,
               false,
               false,
               false,
               false,
               false,
               false,
               false,
               false,
               false,
               false,
               true,
               true,
               true,
               false,
               false,
               false,
               false,
               false,
               false,
               false,
               false,
               false,
               false,
               false,
               false,
               false,
               false,
               false
              ]
             },
             {
              "title": "Previsão e Valores Reais para RS"
             }
            ],
            "label": "RS",
            "method": "update"
           },
           {
            "args": [
             {
              "visible": [
               false,
               false,
               false,
               false,
               false,
               false,
               false,
               false,
               false,
               false,
               false,
               false,
               false,
               false,
               false,
               false,
               false,
               false,
               false,
               false,
               false,
               false,
               false,
               false,
               false,
               false,
               false,
               false,
               false,
               false,
               false,
               false,
               false,
               false,
               false,
               false,
               false,
               false,
               false,
               false,
               false,
               false,
               false,
               false,
               false,
               false,
               false,
               false,
               false,
               false,
               false,
               false,
               false,
               false,
               false,
               false,
               false,
               false,
               false,
               false,
               false,
               false,
               false,
               false,
               false,
               false,
               true,
               true,
               true,
               false,
               false,
               false,
               false,
               false,
               false,
               false,
               false,
               false,
               false,
               false,
               false
              ]
             },
             {
              "title": "Previsão e Valores Reais para SC"
             }
            ],
            "label": "SC",
            "method": "update"
           },
           {
            "args": [
             {
              "visible": [
               false,
               false,
               false,
               false,
               false,
               false,
               false,
               false,
               false,
               false,
               false,
               false,
               false,
               false,
               false,
               false,
               false,
               false,
               false,
               false,
               false,
               false,
               false,
               false,
               false,
               false,
               false,
               false,
               false,
               false,
               false,
               false,
               false,
               false,
               false,
               false,
               false,
               false,
               false,
               false,
               false,
               false,
               false,
               false,
               false,
               false,
               false,
               false,
               false,
               false,
               false,
               false,
               false,
               false,
               false,
               false,
               false,
               false,
               false,
               false,
               false,
               false,
               false,
               false,
               false,
               false,
               false,
               false,
               false,
               true,
               true,
               true,
               false,
               false,
               false,
               false,
               false,
               false,
               false,
               false,
               false
              ]
             },
             {
              "title": "Previsão e Valores Reais para SE"
             }
            ],
            "label": "SE",
            "method": "update"
           },
           {
            "args": [
             {
              "visible": [
               false,
               false,
               false,
               false,
               false,
               false,
               false,
               false,
               false,
               false,
               false,
               false,
               false,
               false,
               false,
               false,
               false,
               false,
               false,
               false,
               false,
               false,
               false,
               false,
               false,
               false,
               false,
               false,
               false,
               false,
               false,
               false,
               false,
               false,
               false,
               false,
               false,
               false,
               false,
               false,
               false,
               false,
               false,
               false,
               false,
               false,
               false,
               false,
               false,
               false,
               false,
               false,
               false,
               false,
               false,
               false,
               false,
               false,
               false,
               false,
               false,
               false,
               false,
               false,
               false,
               false,
               false,
               false,
               false,
               false,
               false,
               false,
               true,
               true,
               true,
               false,
               false,
               false,
               false,
               false,
               false
              ]
             },
             {
              "title": "Previsão e Valores Reais para SP"
             }
            ],
            "label": "SP",
            "method": "update"
           },
           {
            "args": [
             {
              "visible": [
               false,
               false,
               false,
               false,
               false,
               false,
               false,
               false,
               false,
               false,
               false,
               false,
               false,
               false,
               false,
               false,
               false,
               false,
               false,
               false,
               false,
               false,
               false,
               false,
               false,
               false,
               false,
               false,
               false,
               false,
               false,
               false,
               false,
               false,
               false,
               false,
               false,
               false,
               false,
               false,
               false,
               false,
               false,
               false,
               false,
               false,
               false,
               false,
               false,
               false,
               false,
               false,
               false,
               false,
               false,
               false,
               false,
               false,
               false,
               false,
               false,
               false,
               false,
               false,
               false,
               false,
               false,
               false,
               false,
               false,
               false,
               false,
               false,
               false,
               false,
               true,
               true,
               true,
               false,
               false,
               false
              ]
             },
             {
              "title": "Previsão e Valores Reais para TO"
             }
            ],
            "label": "TO",
            "method": "update"
           },
           {
            "args": [
             {
              "visible": [
               false,
               false,
               false,
               false,
               false,
               false,
               false,
               false,
               false,
               false,
               false,
               false,
               false,
               false,
               false,
               false,
               false,
               false,
               false,
               false,
               false,
               false,
               false,
               false,
               false,
               false,
               false,
               false,
               false,
               false,
               false,
               false,
               false,
               false,
               false,
               false,
               false,
               false,
               false,
               false,
               false,
               false,
               false,
               false,
               false,
               false,
               false,
               false,
               false,
               false,
               false,
               false,
               false,
               false,
               false,
               false,
               false,
               false,
               false,
               false,
               false,
               false,
               false,
               false,
               false,
               false,
               false,
               false,
               false,
               false,
               false,
               false,
               false,
               false,
               false,
               false,
               false,
               false,
               true,
               true,
               true
              ]
             },
             {
              "title": "Previsão e Valores Reais para AP"
             }
            ],
            "label": "AP",
            "method": "update"
           }
          ],
          "direction": "down",
          "pad": {
           "r": 10,
           "t": 10
          },
          "showactive": true,
          "x": 0.1,
          "xanchor": "left",
          "y": 1.15,
          "yanchor": "top"
         }
        ],
        "xaxis": {
         "title": {
          "text": "Ano"
         }
        },
        "yaxis": {
         "title": {
          "text": "Valores"
         }
        }
       }
      }
     },
     "metadata": {},
     "output_type": "display_data"
    }
   ],
   "source": [
    "import pandas as pd\n",
    "import plotly.graph_objects as go\n",
    "\n",
    "# Suponha que `final_forecast` seja o DataFrame com as colunas 'SG_UF', 'yhat_adjusted', 'QT_VG_TOTAL', e 'NU_ANO_CENSO'\n",
    "# Atualizar a média móvel no DataFrame para todos os anos e arredondar\n",
    "final_forecast['rolling_yhat_adjusted'] = final_forecast.groupby('SG_UF')['yhat_adjusted'].transform(lambda x: x.rolling(window=3, min_periods=1).mean()).round(2)\n",
    "\n",
    "# Calcular a média móvel de dois anos apenas para a última entrada (assumindo que são os dados para 2023) e arredondar\n",
    "window_size = 2\n",
    "final_forecast['MA_yhat_adjusted'] = final_forecast.groupby('SG_UF')['yhat_adjusted'].transform(lambda x: x.rolling(window=window_size, min_periods=1).mean()).round(2)\n",
    "\n",
    "# Filtrar para manter apenas as entradas mais recentes por UF, presumindo ser de 2023\n",
    "latest_forecasts = final_forecast.drop_duplicates(subset=['SG_UF'], keep='last')\n",
    "\n",
    "# Criar o gráfico com linhas para 'yhat_adjusted' e 'QT_VG_TOTAL'\n",
    "fig = go.Figure()\n",
    "\n",
    "uf_dropdown = final_forecast['SG_UF'].unique()\n",
    "for uf in uf_dropdown:\n",
    "    filtered_df = final_forecast[final_forecast['SG_UF'] == uf]\n",
    "    latest_data = latest_forecasts[latest_forecasts['SG_UF'] == uf]  # Dados de 2023 para MA_yhat_adjusted\n",
    "    fig.add_trace(go.Scatter(x=filtered_df['NU_ANO_CENSO'], y=filtered_df['yhat_adjusted'].round(2),\n",
    "                             mode='lines+markers',\n",
    "                             name=f'{uf} Previsão'))\n",
    "    fig.add_trace(go.Scatter(x=filtered_df['NU_ANO_CENSO'], y=filtered_df['QT_VG_TOTAL'].round(2),\n",
    "                             mode='lines+markers',\n",
    "                             name=f'{uf} Real'))\n",
    "    fig.add_trace(go.Scatter(x=latest_data['NU_ANO_CENSO'], y=latest_data['MA_yhat_adjusted'],\n",
    "                             mode='markers',\n",
    "                             marker=dict(size=10, color='green'),\n",
    "                             name=f'{uf} Previsão 2023'))\n",
    "\n",
    "# Criar botões de filtro para cada UF no dropdown\n",
    "buttons = [dict(label='Todos',\n",
    "                method='update',\n",
    "                args=[{'visible': [True] * len(uf_dropdown) * 3},\n",
    "                      {'title': 'Previsão Ajustada, Valores Reais por UF'}])]\n",
    "for i, uf in enumerate(uf_dropdown):\n",
    "    visibility = [False] * len(uf_dropdown) * 3\n",
    "    visibility[i*3:(i+1)*3] = [True, True, True]  # Visibilidade para previsão, real, e previsão 2023\n",
    "    buttons.append(dict(label=uf,\n",
    "                        method='update',\n",
    "                        args=[{'visible': visibility},\n",
    "                              {'title': f'Previsão e Valores Reais para {uf}'}]))\n",
    "\n",
    "# Atualizar o layout do gráfico com o dropdown e detalhes de estilo\n",
    "fig.update_layout(\n",
    "    title='Previsão Ajustada e Valores Reais por UF',\n",
    "    xaxis_title='Ano',\n",
    "    yaxis_title='Valores',\n",
    "    legend_title='Séries',\n",
    "    updatemenus=[dict(active=0,\n",
    "                      buttons=buttons,\n",
    "                      direction='down',\n",
    "                      pad={'r': 10, 't': 10},\n",
    "                      showactive=True,\n",
    "                      x=0.1,\n",
    "                      xanchor='left',\n",
    "                      y=1.15,\n",
    "                      yanchor='top')],\n",
    "    hovermode='closest'\n",
    ")\n",
    "\n",
    "# Mostrar o gráfico\n",
    "fig.show()\n"
   ]
  },
  {
   "cell_type": "code",
   "execution_count": 7,
   "metadata": {},
   "outputs": [],
   "source": [
    "forecast_vg.to_csv(r'D:\\OneDrive\\censo ensino superior\\forecast_vg.csv')"
   ]
  },
  {
   "cell_type": "code",
   "execution_count": 8,
   "metadata": {},
   "outputs": [],
   "source": [
    "forecast_insc.to_csv(r'D:\\OneDrive\\censo ensino superior\\forecast_insc.csv')"
   ]
  },
  {
   "cell_type": "code",
   "execution_count": 9,
   "metadata": {},
   "outputs": [],
   "source": [
    "final_forecast.to_csv(r'D:\\OneDrive\\censo ensino superior\\final_forecast.csv')"
   ]
  },
  {
   "cell_type": "code",
   "execution_count": 10,
   "metadata": {},
   "outputs": [],
   "source": [
    "df_selected.to_csv(r'D:\\OneDrive\\censo ensino superior\\df_selected.csv')"
   ]
  }
 ],
 "metadata": {
  "kernelspec": {
   "display_name": "base",
   "language": "python",
   "name": "python3"
  },
  "language_info": {
   "codemirror_mode": {
    "name": "ipython",
    "version": 3
   },
   "file_extension": ".py",
   "mimetype": "text/x-python",
   "name": "python",
   "nbconvert_exporter": "python",
   "pygments_lexer": "ipython3",
   "version": "3.7.12"
  }
 },
 "nbformat": 4,
 "nbformat_minor": 2
}
